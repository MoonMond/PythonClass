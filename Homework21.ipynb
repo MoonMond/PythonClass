{
  "nbformat": 4,
  "nbformat_minor": 0,
  "metadata": {
    "colab": {
      "provenance": [],
      "authorship_tag": "ABX9TyNEgdGCHVrgFvRDFaLKvEf8",
      "include_colab_link": true
    },
    "kernelspec": {
      "name": "python3",
      "display_name": "Python 3"
    },
    "language_info": {
      "name": "python"
    }
  },
  "cells": [
    {
      "cell_type": "markdown",
      "metadata": {
        "id": "view-in-github",
        "colab_type": "text"
      },
      "source": [
        "<a href=\"https://colab.research.google.com/github/MoonMond/PythonClass/blob/main/Homework21.ipynb\" target=\"_parent\"><img src=\"https://colab.research.google.com/assets/colab-badge.svg\" alt=\"Open In Colab\"/></a>"
      ]
    },
    {
      "cell_type": "code",
      "execution_count": 3,
      "metadata": {
        "colab": {
          "base_uri": "https://localhost:8080/"
        },
        "id": "qG6fxf4lbSbQ",
        "outputId": "b98a36c2-782f-464d-f203-0f15430b7ecd"
      },
      "outputs": [
        {
          "output_type": "stream",
          "name": "stdout",
          "text": [
            "28\n"
          ]
        }
      ],
      "source": [
        "# 052\n",
        "import random\n",
        "num=random.randint(0,100)\n",
        "print(num)"
      ]
    },
    {
      "cell_type": "code",
      "source": [
        "# 053\n",
        "import random\n",
        "fruit=random.choice([\"사과\",\"수박\",\"배\",\"포도\",\"오렌지\"])\n",
        "print(fruit)"
      ],
      "metadata": {
        "colab": {
          "base_uri": "https://localhost:8080/"
        },
        "id": "2zojA2aCc5il",
        "outputId": "8b19d9cc-6274-4516-f40a-8355e752671d"
      },
      "execution_count": 6,
      "outputs": [
        {
          "output_type": "stream",
          "name": "stdout",
          "text": [
            "포도\n"
          ]
        }
      ]
    },
    {
      "cell_type": "code",
      "source": [
        "# 054\n",
        "import random\n",
        "a=random.choice([\"h\",\"t\"])\n",
        "b=input(\"h / t 선택 : \")\n",
        "if a==b:\n",
        "  print(\"You win\")\n",
        "else:\n",
        "  print(\"Bad luck\")\n",
        "print(f'컴퓨터의 답은 {a}입니다.')"
      ],
      "metadata": {
        "colab": {
          "base_uri": "https://localhost:8080/"
        },
        "id": "MctsrAC1dQM9",
        "outputId": "3d672306-3968-4eca-b3d3-1242fd775ee3"
      },
      "execution_count": 10,
      "outputs": [
        {
          "output_type": "stream",
          "name": "stdout",
          "text": [
            "h / t 선택 : h\n",
            "You win\n",
            "컴퓨터의 답은 h입니다.\n"
          ]
        }
      ]
    },
    {
      "cell_type": "code",
      "source": [
        "# 055\n",
        "import random\n",
        "num=random.randint(1,5)\n",
        "if int(input(\"1부터 5까지 숫자 선택 : \"))==num:\n",
        "  print(\"Well done\")\n",
        "else:\n",
        "  b=int(input(\"1부터 5까지 숫자 선택 : \"))\n",
        "  if b==num:\n",
        "    print(\"Correct\")\n",
        "  else:\n",
        "    print(\"You lose\")\n"
      ],
      "metadata": {
        "colab": {
          "base_uri": "https://localhost:8080/"
        },
        "id": "hIf5kmD5eYHV",
        "outputId": "ccf9c3b4-a490-408a-af74-92a854c4c92f"
      },
      "execution_count": 21,
      "outputs": [
        {
          "output_type": "stream",
          "name": "stdout",
          "text": [
            "1부터 5까지 숫자 선택 : 1\n",
            "1부터 5까지 숫자 선택 : 2\n",
            "Correct\n"
          ]
        }
      ]
    },
    {
      "cell_type": "code",
      "source": [
        "# 056\n",
        "import random\n",
        "num=random.randint(1,10)\n",
        "while True:\n",
        "  a=int(input(\"1부터 10까지 중 선택 : \"))\n",
        "  if a==num:\n",
        "    break"
      ],
      "metadata": {
        "colab": {
          "base_uri": "https://localhost:8080/"
        },
        "id": "lFrNkrBYhWJT",
        "outputId": "bdf6069d-1eac-4fab-9d34-93cffd9fc17a"
      },
      "execution_count": 23,
      "outputs": [
        {
          "name": "stdout",
          "output_type": "stream",
          "text": [
            "1부터 10까지 중 선택 : 1\n",
            "1부터 10까지 중 선택 : 2\n",
            "1부터 10까지 중 선택 : 3\n",
            "1부터 10까지 중 선택 : 4\n"
          ]
        }
      ]
    },
    {
      "cell_type": "code",
      "source": [
        "# 057\n",
        "import random\n",
        "num=random.randint(1,10)\n",
        "while True:\n",
        "  a=int(input(\"1부터 10까지 중 선택 : \"))\n",
        "  if a==num:\n",
        "    break\n",
        "  elif a<num:\n",
        "    print(\"더 높은 수를 입력하시오\")\n",
        "  else:\n",
        "    print(\"더 낮은 수를 입력하시오\")"
      ],
      "metadata": {
        "colab": {
          "base_uri": "https://localhost:8080/"
        },
        "id": "EZffudnAi4QL",
        "outputId": "ca45eb9f-0127-44d6-bb0e-942d2cd6d160"
      },
      "execution_count": 24,
      "outputs": [
        {
          "name": "stdout",
          "output_type": "stream",
          "text": [
            "1부터 10까지 중 선택 : 1\n",
            "더 높은 수를 입력하시오\n",
            "1부터 10까지 중 선택 : 10\n",
            "더 낮은 수를 입력하시오\n",
            "1부터 10까지 중 선택 : 5\n",
            "더 낮은 수를 입력하시오\n",
            "1부터 10까지 중 선택 : 3\n",
            "더 낮은 수를 입력하시오\n",
            "1부터 10까지 중 선택 : 2\n"
          ]
        }
      ]
    },
    {
      "cell_type": "code",
      "source": [
        "# 058\n",
        "import random\n",
        "s=0\n",
        "for i in range(5):\n",
        "  num1 = random.randint(1, 10)\n",
        "  num2 = random.randint(1, 10)\n",
        "  a=num1+num2\n",
        "  b=int(input(f'{num1}+{num2}= '))\n",
        "  if b==a:\n",
        "    s+=1\n",
        "print(f'{s}번 맞췄습니다')"
      ],
      "metadata": {
        "colab": {
          "base_uri": "https://localhost:8080/"
        },
        "id": "gruEkhJgjTMq",
        "outputId": "01126547-c8a3-4daa-b035-6598c584b231"
      },
      "execution_count": 25,
      "outputs": [
        {
          "output_type": "stream",
          "name": "stdout",
          "text": [
            "9+2= 11\n",
            "1+2= 2\n",
            "4+1= 5\n",
            "1+10= 11\n",
            "4+5= 9\n",
            "4번 맞췄습니다\n"
          ]
        }
      ]
    },
    {
      "cell_type": "code",
      "source": [
        "# 059\n",
        "import random\n",
        "colours=[\"빨강\",\"파랑\",\"노랑\",\"검정\",\"초록\"]\n",
        "a=random.choice(colours)\n",
        "while True:\n",
        "  b=input(\"색깔 고르기 : \")\n",
        "  if a==b:\n",
        "    print(\"Well done\")\n",
        "    break\n",
        "  else:\n",
        "    print(f'I bet you are {a} with envy')\n",
        "  "
      ],
      "metadata": {
        "colab": {
          "base_uri": "https://localhost:8080/"
        },
        "id": "JtoidtqQlsCi",
        "outputId": "566af0c9-59d5-431a-f5c1-61da17556584"
      },
      "execution_count": 27,
      "outputs": [
        {
          "output_type": "stream",
          "name": "stdout",
          "text": [
            "색깔 고르기 : 빨강\n",
            "I bet you are 파랑 with envy\n",
            "색깔 고르기 : 파랑\n",
            "Well done\n"
          ]
        }
      ]
    }
  ]
}