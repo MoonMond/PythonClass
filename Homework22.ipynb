{
  "nbformat": 4,
  "nbformat_minor": 0,
  "metadata": {
    "colab": {
      "provenance": [],
      "authorship_tag": "ABX9TyMyTs7jq7dNnwefhOXriqgn",
      "include_colab_link": true
    },
    "kernelspec": {
      "name": "python3",
      "display_name": "Python 3"
    },
    "language_info": {
      "name": "python"
    }
  },
  "cells": [
    {
      "cell_type": "markdown",
      "metadata": {
        "id": "view-in-github",
        "colab_type": "text"
      },
      "source": [
        "<a href=\"https://colab.research.google.com/github/MoonMond/PythonClass/blob/main/Homework22.ipynb\" target=\"_parent\"><img src=\"https://colab.research.google.com/assets/colab-badge.svg\" alt=\"Open In Colab\"/></a>"
      ]
    },
    {
      "cell_type": "code",
      "execution_count": 1,
      "metadata": {
        "colab": {
          "base_uri": "https://localhost:8080/"
        },
        "id": "EfwDFbKMogLq",
        "outputId": "6cabcfed-a4f1-40a6-ad59-f8e220bb9888"
      },
      "outputs": [
        {
          "output_type": "stream",
          "name": "stdout",
          "text": [
            "('가나', '일본', '미국', '프랑스', '독일')\n",
            "위 나라중 택1 : 독일\n",
            "4\n"
          ]
        }
      ],
      "source": [
        "# 069\n",
        "a=(\"가나\",\"일본\",\"미국\",\"프랑스\",\"독일\")\n",
        "print(a)\n",
        "b=input(\"위 나라중 택1 : \")\n",
        "print(a.index(b))"
      ]
    },
    {
      "cell_type": "code",
      "source": [
        "# 070\n",
        "a=(\"가나\",\"일본\",\"미국\",\"프랑스\",\"독일\")\n",
        "print(a)\n",
        "b=int(input(\"0부터 4까지 선택 :\"))\n",
        "print(a[b])"
      ],
      "metadata": {
        "colab": {
          "base_uri": "https://localhost:8080/"
        },
        "id": "vQb6e8B5rOM_",
        "outputId": "88523680-e3f5-4233-86d4-6340b9091749"
      },
      "execution_count": 5,
      "outputs": [
        {
          "output_type": "stream",
          "name": "stdout",
          "text": [
            "('가나', '일본', '미국', '프랑스', '독일')\n",
            "0부터 4까지 선택 :4\n",
            "독일\n"
          ]
        }
      ]
    },
    {
      "cell_type": "code",
      "source": [
        "# 071\n",
        "s=[\"축구\",\"농구\"]\n",
        "a=input(\"좋아하는 스포츠는? : \")\n",
        "s.append(a)\n",
        "s.sort()\n",
        "print(s)"
      ],
      "metadata": {
        "colab": {
          "base_uri": "https://localhost:8080/"
        },
        "id": "foHGeP7ss9GG",
        "outputId": "c0de39b4-20c5-4727-d059-8139a0f2b018"
      },
      "execution_count": 7,
      "outputs": [
        {
          "output_type": "stream",
          "name": "stdout",
          "text": [
            "좋아하는 스포츠는? : 야구\n",
            "['농구', '야구', '축구']\n"
          ]
        }
      ]
    },
    {
      "cell_type": "code",
      "source": [
        "# 072\n",
        "s=[\"국어\",\"수학\",\"영어\",\"사회\",\"과학\",\"미술\"]\n",
        "a=input(f'{s}중에서 싫어하는 과목은? ')\n",
        "s.remove(a)\n",
        "print(s)"
      ],
      "metadata": {
        "colab": {
          "base_uri": "https://localhost:8080/"
        },
        "id": "2YoGAyLjt0nF",
        "outputId": "e71a0213-863e-4496-a9bb-441260550571"
      },
      "execution_count": 8,
      "outputs": [
        {
          "output_type": "stream",
          "name": "stdout",
          "text": [
            "['국어', '수학', '영어', '사회', '과학', '미술']중에서 싫어하는 과목은? 사회\n",
            "['국어', '수학', '영어', '과학', '미술']\n"
          ]
        }
      ]
    },
    {
      "cell_type": "code",
      "source": [
        "# 073\n",
        "f={}\n",
        "for i in range(1,5):\n",
        "  a=input(\"좋아하는 음식은? : \")\n",
        "  f[i]=a\n",
        "print(f)\n",
        "b=int(input(\"제거하고 싶은 항목의 키값은? : \"))\n",
        "del f[b]\n",
        "print(f)\n"
      ],
      "metadata": {
        "colab": {
          "base_uri": "https://localhost:8080/"
        },
        "id": "XD3kRVc2uil2",
        "outputId": "e212d2bf-be1e-4d0d-955b-734f8b71865f"
      },
      "execution_count": 11,
      "outputs": [
        {
          "output_type": "stream",
          "name": "stdout",
          "text": [
            "좋아하는 음식은? : a\n",
            "좋아하는 음식은? : b\n",
            "좋아하는 음식은? : c\n",
            "좋아하는 음식은? : d\n",
            "{1: 'a', 2: 'b', 3: 'c', 4: 'd'}\n",
            "제거하고 싶은 항목의 키값은? : 4\n",
            "{1: 'a', 2: 'b', 3: 'c'}\n"
          ]
        }
      ]
    },
    {
      "cell_type": "code",
      "source": [
        "# 074\n",
        "s=[\"빨강\",\"주황\",\"노랑\",\"초록\",\"파랑\",\"보라\",\"검정\",\"연두\",\"하늘\",\"갈색\"]\n",
        "a=int(input(\"0~4 입력: \"))\n",
        "b=int(input(\"5~9 입력: \"))\n",
        "print(s[a:(b+1)])"
      ],
      "metadata": {
        "colab": {
          "base_uri": "https://localhost:8080/"
        },
        "id": "uHgsrvShx6lk",
        "outputId": "5c83c9a3-c1e7-4e35-e538-d136830362a4"
      },
      "execution_count": 12,
      "outputs": [
        {
          "output_type": "stream",
          "name": "stdout",
          "text": [
            "0~4 입력: 0\n",
            "5~9 입력: 9\n",
            "['빨강', '주황', '노랑', '초록', '파랑', '보라', '검정', '연두', '하늘', '갈색']\n"
          ]
        }
      ]
    },
    {
      "cell_type": "code",
      "source": [
        "# 075\n",
        "l=[111,222,333,444]\n",
        "for i in l:\n",
        "  print(i)\n",
        "a=int(input(\"세자리 숫자 입력 : \"))\n",
        "if a in l:\n",
        "  print(l.index(a))\n",
        "else:\n",
        "  print(\"That is not in the list\")"
      ],
      "metadata": {
        "colab": {
          "base_uri": "https://localhost:8080/"
        },
        "id": "dYFMaTh_ypXF",
        "outputId": "addef629-a57b-444a-ba95-85410b8f886e"
      },
      "execution_count": 15,
      "outputs": [
        {
          "output_type": "stream",
          "name": "stdout",
          "text": [
            "111\n",
            "222\n",
            "333\n",
            "444\n",
            "세자리 숫자 입력 : 222\n",
            "1\n"
          ]
        }
      ]
    },
    {
      "cell_type": "code",
      "source": [
        "# 076\n",
        "list1=[]\n",
        "for i in range(3):\n",
        "  a=input(\"초대하고 싶은 사람 : \")\n",
        "  list1.append(a)\n",
        "while True:\n",
        "  if input(\"더 추가 할건가? : \")==\"no\":\n",
        "    print(list1,f'초대받은 사람은 총 {len(list1)}명입니다')\n",
        "    break\n",
        "  else:\n",
        "    b=input(\"추가할 사람 : \")\n",
        "    list1.append(b)"
      ],
      "metadata": {
        "colab": {
          "base_uri": "https://localhost:8080/"
        },
        "id": "KlPnnrSdE4aN",
        "outputId": "adf70eea-b4dc-468c-ac7a-71ccf7bce846"
      },
      "execution_count": 18,
      "outputs": [
        {
          "output_type": "stream",
          "name": "stdout",
          "text": [
            "초대하고 싶은 사람 : aa\n",
            "초대하고 싶은 사람 : bb\n",
            "초대하고 싶은 사람 : cc\n",
            "더 추가 할건가? : no\n",
            "['aa', 'bb', 'cc'] 초대받은 사람은 총 3명입니다\n"
          ]
        }
      ]
    },
    {
      "cell_type": "code",
      "source": [
        "# 077\n",
        "list1=[]\n",
        "for i in range(3):\n",
        "  a=input(\"초대하고 싶은 사람 : \")\n",
        "  list1.append(a)\n",
        "while True:\n",
        "  if input(\"더 추가 할건가? : \")==\"no\":\n",
        "    print(list1,f'초대받은 사람은 총 {len(list1)}명입니다')\n",
        "    break\n",
        "  else:\n",
        "    b=input(\"추가할 사람 : \")\n",
        "    list1.append(b)\n",
        "c=input(\"초대한 사람 중 한명 적으세요 : \")\n",
        "print(list1.index(c))\n",
        "d=input(\"적은 사람을 아직도 초대하고 싶나요? : \")\n",
        "if d==\"no\":\n",
        "  list1.remove(c)\n",
        "  print(list1)"
      ],
      "metadata": {
        "colab": {
          "base_uri": "https://localhost:8080/"
        },
        "id": "_KWnMwIcGnSE",
        "outputId": "d97986cd-7ba8-4a23-98ef-1c9de084784c"
      },
      "execution_count": 19,
      "outputs": [
        {
          "output_type": "stream",
          "name": "stdout",
          "text": [
            "초대하고 싶은 사람 : aa\n",
            "초대하고 싶은 사람 : bb\n",
            "초대하고 싶은 사람 : cc\n",
            "더 추가 할건가? : no\n",
            "['aa', 'bb', 'cc'] 초대받은 사람은 총 3명입니다\n",
            "초대한 사람 중 한명 적으세요 : cc\n",
            "2\n",
            "적은 사람을 아직도 초대하고 싶나요? : no\n",
            "['aa', 'bb']\n"
          ]
        }
      ]
    },
    {
      "cell_type": "code",
      "source": [
        "# 078\n",
        "TV=[\"KBS\",\"MBC\",\"SBS\",\"EBS\"]\n",
        "for i in TV:\n",
        "  print(i)\n",
        "a=input(\"추가하고 싶은 채널은? : \")\n",
        "b=int(input(\"몇번째에 추가 할까요? : \"))\n",
        "TV.insert(b-1,a)\n",
        "print(TV)"
      ],
      "metadata": {
        "colab": {
          "base_uri": "https://localhost:8080/"
        },
        "id": "oC8mhJEdIg58",
        "outputId": "0140ff44-576b-444a-fbbd-b23d72e518b5"
      },
      "execution_count": 21,
      "outputs": [
        {
          "output_type": "stream",
          "name": "stdout",
          "text": [
            "KBS\n",
            "MBC\n",
            "SBS\n",
            "EBS\n",
            "추가하고 싶은 채널은? : 투니버스\n",
            "몇번째에 추가 할까요? : 3\n",
            "['KBS', 'MBC', '투니버스', 'SBS', 'EBS']\n"
          ]
        }
      ]
    },
    {
      "cell_type": "code",
      "source": [
        "# 079\n",
        "nums=[]\n",
        "for i in range(3):\n",
        "  a=int(input(\"숫자를 입력하시오 \"))\n",
        "  nums.append(a)\n",
        "b=input(\"마지막에 입력한 숫자를 그대로 저장할까요? \")\n",
        "if b==\"no\":\n",
        "  nums.pop()\n",
        "print(nums)"
      ],
      "metadata": {
        "colab": {
          "base_uri": "https://localhost:8080/"
        },
        "id": "q1TyLJcmJ22L",
        "outputId": "107df0c0-6106-4321-cbf0-2b56e5e4b0ba"
      },
      "execution_count": 22,
      "outputs": [
        {
          "output_type": "stream",
          "name": "stdout",
          "text": [
            "숫자를 입력하시오 1\n",
            "숫자를 입력하시오 2\n",
            "숫자를 입력하시오 3\n",
            "마지막에 입력한 숫자를 그대로 저장할까요? no\n",
            "[1, 2]\n"
          ]
        }
      ]
    }
  ]
}