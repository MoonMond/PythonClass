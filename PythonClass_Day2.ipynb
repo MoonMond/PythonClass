{
  "cells": [
    {
      "cell_type": "markdown",
      "metadata": {
        "id": "view-in-github",
        "colab_type": "text"
      },
      "source": [
        "<a href=\"https://colab.research.google.com/github/MoonMond/PythonClass/blob/main/PythonClass_Day2.ipynb\" target=\"_parent\"><img src=\"https://colab.research.google.com/assets/colab-badge.svg\" alt=\"Open In Colab\"/></a>"
      ]
    },
    {
      "cell_type": "code",
      "execution_count": null,
      "id": "9332da3c",
      "metadata": {
        "id": "9332da3c",
        "outputId": "6d8c62a1-0ce8-4250-e6bf-5531af5d8990"
      },
      "outputs": [
        {
          "name": "stdout",
          "output_type": "stream",
          "text": [
            "10\n",
            "9\n",
            "8\n",
            "7\n",
            "6\n",
            "5\n",
            "4\n",
            "3\n",
            "2\n",
            "1\n",
            "0\n"
          ]
        }
      ],
      "source": [
        "n = 10\n",
        "while n >= 0:\n",
        "    print(n)\n",
        "    n=n-1"
      ]
    },
    {
      "cell_type": "code",
      "execution_count": null,
      "id": "fda688dd",
      "metadata": {
        "id": "fda688dd",
        "outputId": "01f2aff3-133b-40b5-c5e1-9acebdcbf205"
      },
      "outputs": [
        {
          "name": "stdout",
          "output_type": "stream",
          "text": [
            "1683\n"
          ]
        }
      ],
      "source": [
        "n=1\n",
        "s=0\n",
        "while n<=100:\n",
        "    if n%3==0:\n",
        "        s=s+n\n",
        "        n=n+1\n",
        "    else:\n",
        "        n=n+1\n",
        "print(s)"
      ]
    },
    {
      "cell_type": "code",
      "execution_count": null,
      "id": "72d15b83",
      "metadata": {
        "id": "72d15b83",
        "outputId": "56c322b1-cc58-4551-dd26-20957a006de1"
      },
      "outputs": [
        {
          "name": "stdout",
          "output_type": "stream",
          "text": [
            "1683\n"
          ]
        }
      ],
      "source": [
        "n=1\n",
        "s=0\n",
        "while n<=100:\n",
        "    if n%3==0:\n",
        "        s=s+n\n",
        "    n+=1\n",
        "print(s)"
      ]
    },
    {
      "cell_type": "code",
      "execution_count": null,
      "id": "0cdbb934",
      "metadata": {
        "id": "0cdbb934",
        "outputId": "3a6a2300-e4bd-42bc-db2a-a42a7a79f393"
      },
      "outputs": [
        {
          "name": "stdout",
          "output_type": "stream",
          "text": [
            "1 번째 학생은 불합격\n",
            "2 번째 학생은 합격\n",
            "3 번째 학생은 불합격\n",
            "4 번째 학생은 불합격\n",
            "5 번째 학생은 합격\n"
          ]
        }
      ],
      "source": [
        "math=[60,90,70,70,100]\n",
        "j=1\n",
        "for i in math:\n",
        "    if i >=90:\n",
        "        print(j,\"번째 학생은 합격\")\n",
        "    else:\n",
        "        print(j,\"번째 학생은 불합격\")\n",
        "    j+=1"
      ]
    },
    {
      "cell_type": "code",
      "execution_count": null,
      "id": "88886ccc",
      "metadata": {
        "id": "88886ccc",
        "outputId": "da959a41-dd0e-4dba-f1e4-7c7253333df0"
      },
      "outputs": [
        {
          "name": "stdout",
          "output_type": "stream",
          "text": [
            "2\n",
            "4\n",
            "6\n",
            "8\n",
            "10\n"
          ]
        }
      ],
      "source": [
        "for i in [1,2,3,4,5,6,7,8,9,10]:\n",
        "    if i%2==0:\n",
        "        print(i)"
      ]
    },
    {
      "cell_type": "code",
      "execution_count": null,
      "id": "ad008c3b",
      "metadata": {
        "id": "ad008c3b",
        "outputId": "7afe7371-6a57-44c0-c666-16d45ce85843"
      },
      "outputs": [
        {
          "name": "stdout",
          "output_type": "stream",
          "text": [
            "2\n",
            "4\n",
            "6\n",
            "8\n",
            "10\n"
          ]
        }
      ],
      "source": [
        "for i in [1,2,3,4,5,6,7,8,9,10]:\n",
        "    if i%2!=0:\n",
        "        continue\n",
        "    print(i)"
      ]
    },
    {
      "cell_type": "code",
      "execution_count": null,
      "id": "bc490bdd",
      "metadata": {
        "id": "bc490bdd",
        "outputId": "aedf6bc9-2dcf-452b-c546-a5efda5c422e"
      },
      "outputs": [
        {
          "name": "stdout",
          "output_type": "stream",
          "text": [
            "range(0, 11)\n"
          ]
        }
      ],
      "source": [
        "print(range(11))"
      ]
    },
    {
      "cell_type": "code",
      "execution_count": null,
      "id": "9992472f",
      "metadata": {
        "id": "9992472f",
        "outputId": "ce8d1c44-b803-466b-e52a-3bdf34736d39"
      },
      "outputs": [
        {
          "name": "stdout",
          "output_type": "stream",
          "text": [
            "1\n",
            "2\n",
            "3\n",
            "4\n",
            "5\n",
            "6\n",
            "7\n",
            "8\n",
            "9\n",
            "10\n"
          ]
        }
      ],
      "source": [
        "for i in range(1,11):\n",
        "    print(i)"
      ]
    },
    {
      "cell_type": "code",
      "execution_count": null,
      "id": "535258aa",
      "metadata": {
        "id": "535258aa",
        "outputId": "0b06b164-5117-42a5-e0e3-ebfb347d9b01"
      },
      "outputs": [
        {
          "name": "stdout",
          "output_type": "stream",
          "text": [
            "2 단\n",
            "2\t4\t6\t8\t10\t12\t14\t16\t18\t\n",
            "\n",
            "3 단\n",
            "3\t6\t9\t12\t15\t18\t21\t24\t27\t\n",
            "\n",
            "4 단\n",
            "4\t8\t12\t16\t20\t24\t28\t32\t36\t\n",
            "\n",
            "5 단\n",
            "5\t10\t15\t20\t25\t30\t35\t40\t45\t\n",
            "\n",
            "6 단\n",
            "6\t12\t18\t24\t30\t36\t42\t48\t54\t\n",
            "\n",
            "7 단\n",
            "7\t14\t21\t28\t35\t42\t49\t56\t63\t\n",
            "\n",
            "8 단\n",
            "8\t16\t24\t32\t40\t48\t56\t64\t72\t\n",
            "\n",
            "9 단\n",
            "9\t18\t27\t36\t45\t54\t63\t72\t81\t\n",
            "\n"
          ]
        }
      ],
      "source": [
        "for i in range(2,10):\n",
        "    for j in range(1,10):\n",
        "        if j==1:\n",
        "            print(i,\"단\")\n",
        "        print(i*j,end=\"\\t\")\n",
        "        if j==9:\n",
        "            print(\"\\n\")"
      ]
    },
    {
      "cell_type": "code",
      "execution_count": null,
      "id": "b3762cbf",
      "metadata": {
        "id": "b3762cbf",
        "outputId": "bb51ed52-dcaf-423e-ca77-5b7f6ba12b96"
      },
      "outputs": [
        {
          "name": "stdout",
          "output_type": "stream",
          "text": [
            "2550\n"
          ]
        }
      ],
      "source": [
        "s=0\n",
        "for i in range(0,101,2):\n",
        "    s=s+i\n",
        "print(s)"
      ]
    },
    {
      "cell_type": "code",
      "execution_count": null,
      "id": "6463dc40",
      "metadata": {
        "id": "6463dc40",
        "outputId": "1622fdb7-f5c3-45bf-ec8c-f92e8b871820"
      },
      "outputs": [
        {
          "name": "stdout",
          "output_type": "stream",
          "text": [
            "[1, 2, 3, 4]\n",
            "[1, 2, 3, 4]\n",
            "[2, 4, 6, 8]\n",
            "[4, 8]\n"
          ]
        }
      ],
      "source": [
        "list1=[1,2,3,4]\n",
        "print(list1)\n",
        "\n",
        "list2=[num for num in list1]\n",
        "print(list2)\n",
        "\n",
        "list3=[num*2 for num in list1]\n",
        "print(list3)\n",
        "\n",
        "list4=[num*2 for num in list1  if num%2==0]\n",
        "print(list4)"
      ]
    },
    {
      "cell_type": "code",
      "execution_count": null,
      "id": "83338462",
      "metadata": {
        "id": "83338462",
        "outputId": "0c224a5e-5ed5-4d61-b4c5-d55fe97f8761"
      },
      "outputs": [
        {
          "name": "stdout",
          "output_type": "stream",
          "text": [
            "합격\n",
            "불합격\n"
          ]
        }
      ],
      "source": [
        "no=80\n",
        "if no >=80:\n",
        "    print(\"합격\")\n",
        "else:\n",
        "    print(\"불합격\")\n",
        "    \n",
        "print(\"합격\" if no>=90 else \"불합격\")"
      ]
    },
    {
      "cell_type": "code",
      "source": [
        "# Quiz\n",
        "\n",
        "a=int(input(\"첫번째 숫자: \"))\n",
        "b=int(input(\"두번째 숫자: \"))\n",
        "c=int(input(\"세번째 숫자: \"))\n",
        "\n",
        "if a>b and a>c:\n",
        "  print(a)\n",
        "elif b>a and b>c:\n",
        "  print(b)\n",
        "else:\n",
        "  print(c)"
      ],
      "metadata": {
        "colab": {
          "base_uri": "https://localhost:8080/"
        },
        "id": "qzwoMnIlqu67",
        "outputId": "fa0dd7f0-c2b4-453e-a712-03b29f1cc814"
      },
      "id": "qzwoMnIlqu67",
      "execution_count": 1,
      "outputs": [
        {
          "output_type": "stream",
          "name": "stdout",
          "text": [
            "첫번째 숫자: 2\n",
            "두번째 숫자: 5\n",
            "세번째 숫자: 8\n",
            "8\n"
          ]
        }
      ]
    },
    {
      "cell_type": "code",
      "source": [
        "# Quiz\n",
        "\n",
        "a=input(\"주민등록번호: \")\n",
        "if a[7]==\"1\" or a[7]==\"3\":\n",
        "  print(\"남자\")\n",
        "else:\n",
        "  print(\"여자\")\n"
      ],
      "metadata": {
        "colab": {
          "base_uri": "https://localhost:8080/"
        },
        "id": "p1KNW420uD9q",
        "outputId": "e799632e-144e-4576-dd7b-4017b1e9e96d"
      },
      "id": "p1KNW420uD9q",
      "execution_count": 6,
      "outputs": [
        {
          "output_type": "stream",
          "name": "stdout",
          "text": [
            "주민등록번호: 123123-1231234\n",
            "남자\n"
          ]
        }
      ]
    },
    {
      "cell_type": "code",
      "source": [
        "# Quiz\n",
        "\n",
        "a=['dog','cat','parrot']\n",
        "for i in a:\n",
        "  print(i[0])\n",
        "  "
      ],
      "metadata": {
        "colab": {
          "base_uri": "https://localhost:8080/"
        },
        "id": "5azz4tI-xQ5x",
        "outputId": "85e772dc-3f34-4580-a439-38bc98f6532a"
      },
      "id": "5azz4tI-xQ5x",
      "execution_count": 7,
      "outputs": [
        {
          "output_type": "stream",
          "name": "stdout",
          "text": [
            "d\n",
            "c\n",
            "p\n"
          ]
        }
      ]
    },
    {
      "cell_type": "code",
      "source": [
        "a=[[\"open\",\"high\",\"low\",\"close\"], [100,110,70,100],[200,210,180,190],[300,310,300,310]]\n",
        "for i in range(1,4):\n",
        "  print(a[i][3])"
      ],
      "metadata": {
        "colab": {
          "base_uri": "https://localhost:8080/"
        },
        "id": "nzP4DpIgy-iZ",
        "outputId": "9fe3e46b-619c-4ee4-df85-1153ba7c4b03"
      },
      "id": "nzP4DpIgy-iZ",
      "execution_count": 9,
      "outputs": [
        {
          "output_type": "stream",
          "name": "stdout",
          "text": [
            "100\n",
            "190\n",
            "310\n"
          ]
        }
      ]
    },
    {
      "cell_type": "code",
      "source": [
        "a=[[\"open\",\"high\",\"low\",\"close\"], [100,110,70,100],[200,210,180,190],[300,310,300,310]]\n",
        "for i in range(1,4):\n",
        "  if a[i][3] < a[i][0]:\n",
        "    continue\n",
        "  print(a[i][3])"
      ],
      "metadata": {
        "colab": {
          "base_uri": "https://localhost:8080/"
        },
        "id": "m7FhVJTr0eLh",
        "outputId": "b6cba3cf-1a00-4c43-aef2-3d82d86d7876"
      },
      "id": "m7FhVJTr0eLh",
      "execution_count": 10,
      "outputs": [
        {
          "output_type": "stream",
          "name": "stdout",
          "text": [
            "100\n",
            "310\n"
          ]
        }
      ]
    },
    {
      "cell_type": "code",
      "source": [
        "import requests # 웹상의 어떤 기능을 가져다 오는 방법"
      ],
      "metadata": {
        "id": "IjJvoc7H1hhZ"
      },
      "id": "IjJvoc7H1hhZ",
      "execution_count": null,
      "outputs": []
    },
    {
      "cell_type": "code",
      "source": [
        "a=1\n",
        "while a<6:\n",
        "  print(\"*\"*a)\n",
        "  a+=1\n",
        "  "
      ],
      "metadata": {
        "colab": {
          "base_uri": "https://localhost:8080/"
        },
        "id": "18JcX0uM2XJI",
        "outputId": "01f07ad0-5de2-4221-991a-2dfa3e7fa2d0"
      },
      "id": "18JcX0uM2XJI",
      "execution_count": 18,
      "outputs": [
        {
          "output_type": "stream",
          "name": "stdout",
          "text": [
            "*\n",
            "**\n",
            "***\n",
            "****\n",
            "*****\n"
          ]
        }
      ]
    },
    {
      "cell_type": "code",
      "source": [
        "a=1\n",
        "b=int(input(\"몇 단? = \"))\n",
        "while a<=b:\n",
        "  print(\"*\"*a)\n",
        "  a+=1"
      ],
      "metadata": {
        "colab": {
          "base_uri": "https://localhost:8080/"
        },
        "id": "hSLhjQgj3VZq",
        "outputId": "a8e8e142-22fa-4594-df00-b911e5223c5b"
      },
      "id": "hSLhjQgj3VZq",
      "execution_count": 15,
      "outputs": [
        {
          "output_type": "stream",
          "name": "stdout",
          "text": [
            "몇 단? = 8\n",
            "*\n",
            "**\n",
            "***\n",
            "****\n",
            "*****\n",
            "******\n",
            "*******\n",
            "********\n"
          ]
        }
      ]
    },
    {
      "cell_type": "code",
      "source": [
        "import random\n",
        "num = random.randrange(1, 101)\n",
        "\n",
        "n=1\n",
        "while True:\n",
        "  a= int(input(\"숫자를 입력하세요 (1~100)  >>> \"))\n",
        "  if a<num:\n",
        "    print(\"더 큰 수를 입력하세요\")\n",
        "    n+=1\n",
        "  elif a>num:\n",
        "    print(\"더 작은 수를 입력하세요\")\n",
        "    n+=1\n",
        "  else:\n",
        "    print(\"정답입니다.\",n,\"번째 시도에 맞추셨습니다. 축하합니다.\")\n",
        "    break\n"
      ],
      "metadata": {
        "colab": {
          "base_uri": "https://localhost:8080/"
        },
        "id": "t1ggAofW4t4g",
        "outputId": "21526abd-b022-4bce-998d-c4ae1ffa1265"
      },
      "id": "t1ggAofW4t4g",
      "execution_count": 24,
      "outputs": [
        {
          "output_type": "stream",
          "name": "stdout",
          "text": [
            "숫자를 입력하세요 (1~100)  >>> 50\n",
            "더 작은 수를 입력하세요\n",
            "숫자를 입력하세요 (1~100)  >>> 30\n",
            "더 작은 수를 입력하세요\n",
            "숫자를 입력하세요 (1~100)  >>> 20\n",
            "더 작은 수를 입력하세요\n",
            "숫자를 입력하세요 (1~100)  >>> 10\n",
            "더 큰 수를 입력하세요\n",
            "숫자를 입력하세요 (1~100)  >>> 15\n",
            "정답입니다. 5 번째 시도에 맞추셨습니다. 축하합니다.\n"
          ]
        }
      ]
    },
    {
      "cell_type": "code",
      "source": [
        "import random\n",
        "num = random.randrange(1, 11)\n",
        "print(num)"
      ],
      "metadata": {
        "colab": {
          "base_uri": "https://localhost:8080/"
        },
        "id": "NrB_Z3oT52SC",
        "outputId": "9a7361a1-b7d7-4489-86d9-673b5ac67b07"
      },
      "id": "NrB_Z3oT52SC",
      "execution_count": 22,
      "outputs": [
        {
          "output_type": "stream",
          "name": "stdout",
          "text": [
            "1\n"
          ]
        }
      ]
    }
  ],
  "metadata": {
    "kernelspec": {
      "display_name": "Python 3 (ipykernel)",
      "language": "python",
      "name": "python3"
    },
    "language_info": {
      "codemirror_mode": {
        "name": "ipython",
        "version": 3
      },
      "file_extension": ".py",
      "mimetype": "text/x-python",
      "name": "python",
      "nbconvert_exporter": "python",
      "pygments_lexer": "ipython3",
      "version": "3.9.13"
    },
    "colab": {
      "provenance": [],
      "include_colab_link": true
    }
  },
  "nbformat": 4,
  "nbformat_minor": 5
}