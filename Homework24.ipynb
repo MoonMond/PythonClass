{
  "nbformat": 4,
  "nbformat_minor": 0,
  "metadata": {
    "colab": {
      "provenance": [],
      "authorship_tag": "ABX9TyPyp2hcqOxGvd1TINyMI0Hv",
      "include_colab_link": true
    },
    "kernelspec": {
      "name": "python3",
      "display_name": "Python 3"
    },
    "language_info": {
      "name": "python"
    }
  },
  "cells": [
    {
      "cell_type": "markdown",
      "metadata": {
        "id": "view-in-github",
        "colab_type": "text"
      },
      "source": [
        "<a href=\"https://colab.research.google.com/github/MoonMond/PythonClass/blob/main/Homework24.ipynb\" target=\"_parent\"><img src=\"https://colab.research.google.com/assets/colab-badge.svg\" alt=\"Open In Colab\"/></a>"
      ]
    },
    {
      "cell_type": "code",
      "execution_count": 4,
      "metadata": {
        "colab": {
          "base_uri": "https://localhost:8080/"
        },
        "id": "VoQ4rmNTU6Y0",
        "outputId": "db190ba4-befa-4c57-ab65-69ac2738c73b"
      },
      "outputs": [
        {
          "output_type": "stream",
          "name": "stdout",
          "text": [
            "숫자 입력 : 20\n",
            "숫자 입력 : 40\n",
            "숫자 입력 : 30\n",
            "숫자 입력 : 10\n",
            "숫자 입력 : 50\n",
            "[50, 40, 30, 20, 10]\n"
          ]
        }
      ],
      "source": [
        "# 088\n",
        "from array import * \n",
        "nums= array('i',[])\n",
        "for i in range(5):\n",
        "  a=int(input(\"숫자 입력 : \"))\n",
        "  nums.append(a)\n",
        "nums=sorted(nums)\n",
        "nums.reverse()\n",
        "print(nums)"
      ]
    },
    {
      "cell_type": "code",
      "source": [
        "# 089\n",
        "from array import * \n",
        "import random\n",
        "nums= array('i',[])\n",
        "for i in range(5):\n",
        "  a=random.randrange(0,100)\n",
        "  nums.append(a)\n",
        "for j in nums:\n",
        "  print(j)"
      ],
      "metadata": {
        "colab": {
          "base_uri": "https://localhost:8080/"
        },
        "id": "H8VATUhlW-Vu",
        "outputId": "e3166708-fad4-41c1-c878-6ce744f5ba56"
      },
      "execution_count": 5,
      "outputs": [
        {
          "output_type": "stream",
          "name": "stdout",
          "text": [
            "53\n",
            "55\n",
            "6\n",
            "11\n",
            "50\n"
          ]
        }
      ]
    },
    {
      "cell_type": "code",
      "source": [
        "# 090\n",
        "from array import * \n",
        "nums= array('i',[])\n",
        "s=0\n",
        "while True:\n",
        "  a=int(input(\"숫자 입력 : \"))\n",
        "  if a<20 and a>10:\n",
        "    nums.append(a)\n",
        "    s+=1\n",
        "    if s==5:\n",
        "      print(\"Thank you\")\n",
        "      break\n",
        "  else:\n",
        "    print(\"Outside the range\")\n",
        "for i in nums:\n",
        "  print(i)"
      ],
      "metadata": {
        "colab": {
          "base_uri": "https://localhost:8080/"
        },
        "id": "qnpp13GrX2MN",
        "outputId": "9ea3b5f2-294b-429a-88f3-9b2049733205"
      },
      "execution_count": 11,
      "outputs": [
        {
          "output_type": "stream",
          "name": "stdout",
          "text": [
            "숫자 입력 : 12\n",
            "숫자 입력 : 13\n",
            "숫자 입력 : 14\n",
            "숫자 입력 : 14\n",
            "숫자 입력 : 15\n",
            "Thank you\n",
            "12\n",
            "13\n",
            "14\n",
            "14\n",
            "15\n"
          ]
        }
      ]
    },
    {
      "cell_type": "code",
      "source": [
        "# 091\n",
        "from array import * \n",
        "nums= array('i',[1,3,3,4,5])\n",
        "print(nums)\n",
        "a=int(input(\"배열 안의 숫자 아무거나 하나 : \"))\n",
        "print(nums.count(a))"
      ],
      "metadata": {
        "colab": {
          "base_uri": "https://localhost:8080/"
        },
        "id": "0RQd2ecRZM-8",
        "outputId": "af9da328-8e74-4a42-c937-5b4ff3c4555f"
      },
      "execution_count": 14,
      "outputs": [
        {
          "output_type": "stream",
          "name": "stdout",
          "text": [
            "array('i', [1, 3, 3, 4, 5])\n",
            "배열 안의 숫자 아무거나 하나 : 3\n",
            "2\n"
          ]
        }
      ]
    },
    {
      "cell_type": "code",
      "source": [
        "# 092\n",
        "from array import * \n",
        "import random\n",
        "nums1= array('i',[])\n",
        "for i in range(3):\n",
        "  a=int(input(\"숫자 입력 : \"))\n",
        "  nums1.append(a)\n",
        "nums2= array('i',[])\n",
        "for j in range(5):\n",
        "  b=random.randrange(0,100)\n",
        "  nums2.append(b)\n",
        "nums2.extend(nums1)\n",
        "nums2=sorted(nums2)\n",
        "for k in nums2:\n",
        "  print(k)"
      ],
      "metadata": {
        "colab": {
          "base_uri": "https://localhost:8080/"
        },
        "id": "QIYdd62UZuzD",
        "outputId": "231d5fbc-e839-45c6-ea55-d67c23132987"
      },
      "execution_count": 15,
      "outputs": [
        {
          "output_type": "stream",
          "name": "stdout",
          "text": [
            "숫자 입력 : 19\n",
            "숫자 입력 : 29\n",
            "숫자 입력 : 39\n",
            "12\n",
            "19\n",
            "20\n",
            "21\n",
            "23\n",
            "29\n",
            "39\n",
            "72\n"
          ]
        }
      ]
    },
    {
      "cell_type": "code",
      "source": [
        "# 093\n",
        "from array import * \n",
        "nums= array('i',[])\n",
        "for i in range(5):\n",
        "  a=int(input(\"숫자 입력 : \"))\n",
        "  nums.append(a)\n",
        "nums=sorted(nums)\n",
        "print(nums)\n",
        "b=int(input(\"제거하고 싶은 숫자는? \"))\n",
        "nums.remove(b)\n",
        "print(nums)\n"
      ],
      "metadata": {
        "colab": {
          "base_uri": "https://localhost:8080/"
        },
        "id": "b2KEqaMQbCzs",
        "outputId": "21333795-79f0-47b8-979c-36f431cced28"
      },
      "execution_count": 16,
      "outputs": [
        {
          "output_type": "stream",
          "name": "stdout",
          "text": [
            "숫자 입력 : 3\n",
            "숫자 입력 : 1\n",
            "숫자 입력 : 4\n",
            "숫자 입력 : 5\n",
            "숫자 입력 : 2\n",
            "[1, 2, 3, 4, 5]\n",
            "제거하고 싶은 숫자는? 2\n",
            "[1, 3, 4, 5]\n"
          ]
        }
      ]
    },
    {
      "cell_type": "code",
      "source": [
        "# 094\n",
        "from array import * \n",
        "nums= array('i',[1,2,3,4,5])\n",
        "while True:\n",
        "  a=int(input(\"숫자를 고르시오 \"))\n",
        "  if a in nums:\n",
        "    print(nums.index(a))\n",
        "    break"
      ],
      "metadata": {
        "colab": {
          "base_uri": "https://localhost:8080/"
        },
        "id": "1Yx3LYBGbwmz",
        "outputId": "c84bde3b-3a0a-42d9-a95b-5c46c5fd9205"
      },
      "execution_count": 19,
      "outputs": [
        {
          "output_type": "stream",
          "name": "stdout",
          "text": [
            "숫자를 고르시오 4\n",
            "3\n"
          ]
        }
      ]
    },
    {
      "cell_type": "code",
      "source": [
        "# 095\n",
        "from array import * \n",
        "nums1= array('f',[11.55,22.55,33.33,44.11,55.22])\n",
        "nums2= array('f',[])\n",
        "a=int(input(\"2와 5 사이의 숫자 입력: \"))\n",
        "while a<2 or a>5:\n",
        "  print(\"2와 5 사이에서 입력하시오\")\n",
        "  a=int(input(\"2 와 5 사이의 숫자 입력: \"))\n",
        "for i in range(len(nums1)):\n",
        "  nums2.append(nums1[i]/a)\n",
        "for j in range(len(nums2)):\n",
        "  print(round(nums2[j],2))"
      ],
      "metadata": {
        "colab": {
          "base_uri": "https://localhost:8080/"
        },
        "id": "RvFNBR5Mck0s",
        "outputId": "085a13be-76ae-4321-b37f-7ff3edab2fc5"
      },
      "execution_count": 27,
      "outputs": [
        {
          "output_type": "stream",
          "name": "stdout",
          "text": [
            "2와 5 사이의 숫자 입력: 4\n",
            "2.89\n",
            "5.64\n",
            "8.33\n",
            "11.03\n",
            "13.81\n"
          ]
        }
      ]
    }
  ]
}