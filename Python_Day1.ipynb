{
  "nbformat": 4,
  "nbformat_minor": 0,
  "metadata": {
    "colab": {
      "provenance": [],
      "authorship_tag": "ABX9TyO2dDXnLzyjJ9VXVdcWNS+N",
      "include_colab_link": true
    },
    "kernelspec": {
      "name": "python3",
      "display_name": "Python 3"
    },
    "language_info": {
      "name": "python"
    }
  },
  "cells": [
    {
      "cell_type": "markdown",
      "metadata": {
        "id": "view-in-github",
        "colab_type": "text"
      },
      "source": [
        "<a href=\"https://colab.research.google.com/github/MoonMond/PythonClass/blob/main/Python_Day1.ipynb\" target=\"_parent\"><img src=\"https://colab.research.google.com/assets/colab-badge.svg\" alt=\"Open In Colab\"/></a>"
      ]
    },
    {
      "cell_type": "code",
      "execution_count": null,
      "metadata": {
        "colab": {
          "base_uri": "https://localhost:8080/"
        },
        "id": "-gpegoFAd53i",
        "outputId": "e5ac2788-8f86-4578-c6fe-b514a6ddc5ed"
      },
      "outputs": [
        {
          "output_type": "stream",
          "name": "stdout",
          "text": [
            "hello world\n"
          ]
        }
      ],
      "source": [
        "print (\"hello world\")"
      ]
    },
    {
      "cell_type": "markdown",
      "source": [
        "파이썬이란...\n",
        "- 귀도 반 로썸 1990년에 개발한 인터프리터 언어이다. (컴파일러와 인터프리터가 있으며 한줄 한줄 코드를 해석해서 실행결과를 바로 확인할 수 있는 언어이다.)\n",
        "자바는 크게 컴파일러 언어이지만 두가지 기능 모두 보유(하이브리드 언어라고도 함)\n",
        "컴파일러는 덩어리(앞 뒤 붙는게 많음), 인터프리터는 한줄 한줄\n",
        "\n",
        "파이썬 로고\n",
        "- 고대 신화에 나오는 동굴에 살던 큰 뱀을 뜻한다.\n",
        "\n",
        "파이썬 교육용으로 많이 사용되기도 하지만 업무용으로도 전혀 손색이 없다.\n",
        "\n",
        "파이썬 특징\n",
        "- 문법이 쉽다.\n",
        "- 빠르게 배울 수 있다.\n",
        "- 무료지만 강력하다.\n",
        "- 즐거운 프로그래밍이 가능하다.\n",
        "\n",
        "파이썬으로 할 수 있는 것\n",
        "- 인공지능\n",
        "- 빅데이터\n",
        "- GUI 애플리케이션(윈도우)\n",
        "- C / C++ 결합\n",
        "- 웹 프로그래밍 (Flast, Django)\n",
        "- 데이터베이스\n",
        "\n",
        "파이썬 약점\n",
        "- 시스템과 밀접한 프로그래밍\n",
        "- 모바일 프로그래밍\n",
        "\n",
        "IDE 개발도구\n",
        "- Colab\n",
        "- Anaconda\n",
        "- VS Code(모든 언어를 훌륭하게 다룰 수 있음, 강추)\n",
        "- PyCharm(유료)\n"
      ],
      "metadata": {
        "id": "kfhn2xPchy9B"
      }
    },
    {
      "cell_type": "markdown",
      "source": [
        "# **변수**\n",
        "숫자, 문자 등 데이터을 다룰 때 변수 variable 을 사용하게 된다."
      ],
      "metadata": {
        "id": "F3e4ihUxrn_K"
      }
    },
    {
      "cell_type": "code",
      "source": [
        "a=1\n",
        "a=2\n",
        "b=\"python\"\n",
        "b=\"java\"\n",
        "print(a)\n",
        "print(b)"
      ],
      "metadata": {
        "colab": {
          "base_uri": "https://localhost:8080/"
        },
        "id": "PIxD7PnRruqA",
        "outputId": "ca7c4a40-05f5-49c3-c38b-29ece0dfffad"
      },
      "execution_count": null,
      "outputs": [
        {
          "output_type": "stream",
          "name": "stdout",
          "text": [
            "2\n",
            "java\n"
          ]
        }
      ]
    },
    {
      "cell_type": "markdown",
      "source": [
        "# **자료형**\n",
        "자료형이란 프로그래밍에서 자료 형태로 문자/숫자를 사용하는 것을 말한다. 프로그래밍의 핵심이자 기본이 바로 자료형이다. 자료형을 충분히 이해해야만 프로그래밍을 잘할 수 있다.\n",
        "1. 숫자형\n",
        "\n",
        "숫자형 자료형은 숫자 형태(정수, 실수 등)로 이루어진 자료형이다.\n",
        "\n",
        "정수   1  ,   2\n",
        "실수   2.13,  3.04\n",
        "\n",
        "\n",
        "정수형(Integer)\n",
        "\n"
      ],
      "metadata": {
        "id": "RMFNr4WoqDDB"
      }
    },
    {
      "cell_type": "code",
      "source": [
        "a=3\n",
        "b=5\n",
        "\n",
        "# print는 생략해도 출력이 되지만 정상은 print구문을 사용하는 것이다.\n",
        "print(a+b) #주석 comment 은 컴퓨터는 읽지 않는다.\n",
        "print(a-b)\n",
        "print(a*b)\n",
        "print(a/b)"
      ],
      "metadata": {
        "colab": {
          "base_uri": "https://localhost:8080/"
        },
        "id": "fhXPBN66vaa3",
        "outputId": "8b7ce989-ba1b-4e57-a4c3-f8bcd54b1237"
      },
      "execution_count": null,
      "outputs": [
        {
          "output_type": "stream",
          "name": "stdout",
          "text": [
            "8\n",
            "-2\n",
            "15\n",
            "0.6\n"
          ]
        }
      ]
    },
    {
      "cell_type": "code",
      "source": [
        "# 나머지 연산자 %\n",
        "# 나머지 연산자를 통해 짝수, 홀수, 배수를 알아낼 수 있다.\n",
        "a=7\n",
        "b=3\n",
        "print(a%b)\n",
        "print(a%2) # 어떤수를 2로 나눈 나머지가 1이면 항상 홀수이고 나머지가 0이면 항상 짝수\n",
        "print(8%2) # 어떤수를 어떤수로 나눈 나머지가 0이면 항상 그 수의 배수이다."
      ],
      "metadata": {
        "colab": {
          "base_uri": "https://localhost:8080/"
        },
        "id": "Q_00hGqdxS5y",
        "outputId": "0b1ae505-9600-4e43-b0ea-1a32a14d8fb4"
      },
      "execution_count": null,
      "outputs": [
        {
          "output_type": "stream",
          "name": "stdout",
          "text": [
            "1\n",
            "1\n",
            "0\n"
          ]
        }
      ]
    },
    {
      "cell_type": "code",
      "source": [
        "# 몫만 알고 싶을 때는 //\n",
        "print(9//2)"
      ],
      "metadata": {
        "colab": {
          "base_uri": "https://localhost:8080/"
        },
        "id": "fPudVaUlywAq",
        "outputId": "91564452-4ba0-4188-df57-a3b3f537e494"
      },
      "execution_count": null,
      "outputs": [
        {
          "output_type": "stream",
          "name": "stdout",
          "text": [
            "4\n"
          ]
        }
      ]
    },
    {
      "cell_type": "markdown",
      "source": [
        "# **문자열 자료형**\n",
        "\n",
        "문자열을 문자, 단더, 문장 등으로 구성된 글자들의 집합이다."
      ],
      "metadata": {
        "id": "fzaiwHtwzM5h"
      }
    },
    {
      "cell_type": "code",
      "source": [
        "a='b'\n",
        "b='hello'\n",
        "c='awesome class'\n",
        "d=\"123\" #  123 숫자 123과는 다른 문자 \"123\" 이다.\n",
        "\n",
        "print(a)\n",
        "print(b)\n",
        "print(c)\n",
        "print(d)\n",
        "#자바 등과 같은 언어에서는 변수를 사용할 때 형까지도 지정을 해주어야한다.\n",
        "# char a=\"b\"\n",
        "# string b =\"hello\"\n",
        "# int c=4\n"
      ],
      "metadata": {
        "colab": {
          "base_uri": "https://localhost:8080/"
        },
        "id": "gXn3CtSsxGOo",
        "outputId": "8616749c-9aab-42b3-c273-891e9f862f79"
      },
      "execution_count": null,
      "outputs": [
        {
          "output_type": "stream",
          "name": "stdout",
          "text": [
            "b\n",
            "hello\n",
            "awesome class\n",
            "123\n"
          ]
        }
      ]
    },
    {
      "cell_type": "code",
      "source": [
        "# 파이썬에서 문자열은 \"\" 큰따옴표 '' 작은따옴표 동일하게 취급한다.\n",
        "\n",
        "a=\"hello\"\n",
        "b='hello'\n",
        "print(a)\n",
        "print(b)\n",
        "\n",
        "# 하지만 아래의 경우 약간 다르게 처리된다.\n",
        "a = 'hello \"austin\"'\n",
        "print(a)\n",
        "\n",
        "b = \"hello 'austin'\"\n",
        "print(b)\n",
        "\n",
        "# \"\"\"      \"\"\" dac string >> 컴퓨터가 읽는 주석\n",
        "# '''      '''\n",
        "\n",
        "# 백슬래시를 넣으면 기능이 무시되고 글자로만 취급한다.\n",
        "a = \"hello \\\"austin\\\"\"\n",
        "b = 'hello \\'austin\\''\n",
        "print(a)\n",
        "print(b)"
      ],
      "metadata": {
        "colab": {
          "base_uri": "https://localhost:8080/"
        },
        "id": "PJnL7IBx1JmJ",
        "outputId": "6c65e7aa-cbf9-47fd-fbfd-e628c91a56e7"
      },
      "execution_count": null,
      "outputs": [
        {
          "output_type": "stream",
          "name": "stdout",
          "text": [
            "hello\n",
            "hello\n",
            "hello \"austin\"\n",
            "hello 'austin'\n",
            "hello \"austin\"\n",
            "hello 'austin'\n"
          ]
        }
      ]
    },
    {
      "cell_type": "code",
      "source": [
        "# \\ 백슬래시를 사용하는 것은 이스케이프 코드를 사용한다라고 표현한다.\n",
        "# \\n 강제 줄바꿈\n",
        "# \\t 일정 간격 띄우기\n",
        "\n",
        "\n",
        "a=\"hello \\nworld\"\n",
        "print(a)\n",
        "b=\"hello\\t\\t\\tworld\"\n",
        "print(b)\n"
      ],
      "metadata": {
        "colab": {
          "base_uri": "https://localhost:8080/"
        },
        "id": "kmTwGnKw1_7Q",
        "outputId": "39650a5d-3259-44a7-bd06-ee75822fd21d"
      },
      "execution_count": null,
      "outputs": [
        {
          "output_type": "stream",
          "name": "stdout",
          "text": [
            "hello \n",
            "world\n",
            "hello\t\t\two\\rld\n"
          ]
        }
      ]
    },
    {
      "cell_type": "markdown",
      "source": [
        "파이썬에서 아주 중요한 자료형 4가지\n",
        "- List 가장 중요(80~90%의 양 차지)\n",
        "- Tuple\n",
        "- Dic\n",
        "- Set\n",
        "\n",
        "# List []\n",
        "\n",
        "- mutable : 수정가능하다.\n",
        "- indexing / slicing 이 가능하다.\n",
        "- 파이썬에서 가장 많이 사용한다.\n",
        "\n",
        "# Tuple ()\n",
        "\n",
        "- immutable : 수정불가능하다.\n",
        "- indexing / slicing 이 가능하다.\n",
        "\n",
        "# Dict {}\n",
        "\n",
        "- mutable : 수정가능하다.\n",
        "- indexing / slicing이 불가능하다.\n",
        "- 키값 / 밸류값 쌍으로 구성한다.\n",
        "\n",
        "# Set {}\n",
        "\n",
        "- mutable : 수정가능하다.\n",
        "- indexing / slicing이 불가능하다.\n",
        "- 중복값을 허용하지 않는다."
      ],
      "metadata": {
        "id": "URdSjlpE5AHa"
      }
    },
    {
      "cell_type": "code",
      "source": [
        "# 리스트 작성\n",
        "\n",
        "emp1 = []\n",
        "odd2 = [1,3,5,7,9]\n",
        "str3 = [\"하나\",\"둘\",\"셋\"]\n",
        "mix4 = [1,2,\"삼\"]\n",
        "\n",
        "print(emp1)\n",
        "print(odd2)\n",
        "print(str3)\n",
        "print(mix4)\n",
        "\n",
        "# 리스트에서 인덱싱 indexing (파이썬에서의 인덱싱은 0에서부터 시작한다)\n",
        "\n",
        "alist = [10,20,30,40,50]\n",
        "\n",
        "print(alist[0])\n",
        "print(alist[0]+alist[1])\n",
        "print(sum(alist[0:5])/5)\n"
      ],
      "metadata": {
        "colab": {
          "base_uri": "https://localhost:8080/"
        },
        "id": "qtiBeTIDTT3h",
        "outputId": "c078ab9d-4973-41c1-8ea4-1d7865b25538"
      },
      "execution_count": null,
      "outputs": [
        {
          "output_type": "stream",
          "name": "stdout",
          "text": [
            "[]\n",
            "[1, 3, 5, 7, 9]\n",
            "['하나', '둘', '셋']\n",
            "[1, 2, '삼']\n",
            "10\n",
            "30\n",
            "30.0\n"
          ]
        }
      ]
    },
    {
      "cell_type": "code",
      "source": [
        "# 슬라이싱 slicing 하나씩 추출하는 인덱싱과는 달리 여러개를 추출한다.\n",
        "blist = \"12345\"\n",
        "\n",
        "blist[0:2] # 0부터 2미만\n",
        "blist[:3] # 시작을 생략하면 처음부터 3미만까지, 3은 포함하지 않는다.\n",
        "blist[0:] # 마지막을 생략하면 마지막까지\n",
        "\n",
        "clist = [1,2,3,4,5]\n",
        "clist[0:2]"
      ],
      "metadata": {
        "colab": {
          "base_uri": "https://localhost:8080/"
        },
        "id": "f4cr9WB4Ua3v",
        "outputId": "1af4c75d-84ac-49ed-c777-c5edc20881ee"
      },
      "execution_count": null,
      "outputs": [
        {
          "output_type": "execute_result",
          "data": {
            "text/plain": [
              "[1, 2]"
            ]
          },
          "metadata": {},
          "execution_count": 26
        }
      ]
    },
    {
      "cell_type": "code",
      "source": [
        "# 리스트에서의 연산\n",
        "\n",
        "# 리스트 더하기 (리스트들의 연결된 합으로 나타난다.)\n",
        "\n",
        "alist=[1,2,3,4,5]\n",
        "blist=[6,7,8,9,10]\n",
        "\n",
        "print(alist+blist)\n",
        "\n",
        "#리스트 곱하기 (리스트들을 반복하여 연결된 합으로 나타난다.)\n",
        "print(alist*3)\n",
        "\n",
        "#리스트의 갯수 구하기\n",
        "print(len(alist))"
      ],
      "metadata": {
        "colab": {
          "base_uri": "https://localhost:8080/"
        },
        "id": "7c9_PX-KbWM5",
        "outputId": "22ff1b2b-0091-4000-f0e9-5368b0aa2289"
      },
      "execution_count": null,
      "outputs": [
        {
          "output_type": "stream",
          "name": "stdout",
          "text": [
            "[1, 2, 3, 4, 5, 6, 7, 8, 9, 10]\n",
            "[1, 2, 3, 4, 5, 1, 2, 3, 4, 5, 1, 2, 3, 4, 5]\n",
            "5\n"
          ]
        }
      ]
    },
    {
      "cell_type": "code",
      "source": [
        "# 리스트의 수정 mutable\n",
        "\n",
        "alist=[1,2,3,4,5]\n",
        "alist[2] = 0\n",
        "print(alist)\n",
        "\n",
        "# 리스트의 삭제\n",
        "del alist[2]\n",
        "print(alist)"
      ],
      "metadata": {
        "colab": {
          "base_uri": "https://localhost:8080/"
        },
        "id": "oQDM6bpqcVcX",
        "outputId": "604f28de-ad00-4faf-c91e-c9fe32e0eb3f"
      },
      "execution_count": null,
      "outputs": [
        {
          "output_type": "stream",
          "name": "stdout",
          "text": [
            "[1, 2, 0, 4, 5]\n",
            "[1, 2, 4, 5]\n"
          ]
        }
      ]
    },
    {
      "cell_type": "code",
      "source": [
        "# 리스트에서 많이 사용되는 함수들\n",
        "\n",
        "# append - 리스트에 요소를 추가하는 기능\n",
        "\n",
        "alist=[1,2,3,4,5]\n",
        "\n",
        "alist.append(6)\n",
        "print(\"원래 리스트에 6을 추가한 결과는 \",alist,\"입니다.\")\n",
        "\n",
        "# sort - 리스트에서 요소들을 정렬하는 기능\n",
        "\n",
        "blist=[2,4,3,5,1]\n",
        "blist.sort()\n",
        "print(\"원래 리스트를 정렬하여 출력한 결과는 \",blist,\"입니다.\")\n",
        "\n",
        "# reverse - 리스트에서 요소들을 그대로 뒤집는 기능\n",
        "\n",
        "clist=[123,45]\n",
        "clist.reverse()\n",
        "print(\"원래 리스트를 그대로 역순으로 출력한 결과는 \",clist,\"입니다.\")\n",
        "\n",
        "# index - 리스트에서 특정 값의 위치를 반환하는 기능\n",
        "\n",
        "dlist=[1,2,3,4,5]\n",
        "print(\"숫자 2의 인덱스 값은 \",dlist.index(2),\"입니다.\")\n",
        "\n",
        "# insert - 리스트의 특정 위치의 요소를 추가하는 기능\n",
        "\n",
        "elist=[1,2,3,4,5]\n",
        "elist.insert(0,0)\n",
        "print(elist)\n",
        "\n",
        "# remove - 리스트에서 요소를 삭제하는 기능\n",
        "\n",
        "flist=[1,2,3,4,5,3]\n",
        "flist.remove(3) # 리스트에서 삭제할 값을 입력, 같은 값이 여러개 있을 경우 처음 등장하는 값을 삭제\n",
        "print(flist)\n",
        "\n",
        "# pop - 리스트에서 마지막 요소를 제거하는 기능으로 주로 쓰이지만 특정 위치로도 삭제 가능\n",
        "\n",
        "glist=[1,2,3,4,5]\n",
        "glist.pop()\n",
        "glist.pop()\n",
        "print(glist)\n",
        "glist.pop(0)\n",
        "glist.pop(0)\n",
        "print(glist)\n",
        "\n",
        "# count - 리스트에서 요소의 갯수 세는 기능\n",
        "\n",
        "jlist=[1,2,3,1]\n",
        "print(jlist.count(1))\n",
        "\n",
        "\n",
        "# extend - 리스트의 확장\n",
        "\n",
        "A=[1,2,3]\n",
        "\n",
        "A.extend([4,5])\n",
        "\n",
        "print(A)\n",
        "\n",
        "movie=[\"자백\",\"리멤버\",\"블랙 아담\"]\n",
        "print(movie)"
      ],
      "metadata": {
        "colab": {
          "base_uri": "https://localhost:8080/"
        },
        "id": "TdWep7uOdBfJ",
        "outputId": "358914b4-20e4-4749-8086-accd7d9bd74c"
      },
      "execution_count": null,
      "outputs": [
        {
          "output_type": "stream",
          "name": "stdout",
          "text": [
            "원래 리스트에 6을 추가한 결과는  [1, 2, 3, 4, 5, 6] 입니다.\n",
            "원래 리스트를 정렬하여 출력한 결과는  [1, 2, 3, 4, 5] 입니다.\n",
            "원래 리스트를 그대로 역순으로 출력한 결과는  [45, 123] 입니다.\n",
            "숫자 2의 인덱스 값은  1 입니다.\n",
            "[0, 1, 2, 3, 4, 5]\n",
            "[1, 2, 4, 5, 3]\n",
            "[1, 2, 3]\n",
            "[3]\n",
            "2\n",
            "[1, 2, 3, 4, 5]\n",
            "['자백', '리멤버', '블랙 아담']\n"
          ]
        }
      ]
    },
    {
      "cell_type": "code",
      "source": [
        "# 튜플 Tuple\n",
        "# 튜플은 리스트와 거의 동일하지만 immutable 즉, 한번 생성하면 수정도 삭제도 불가능하다는 특징이 있다.\n",
        "# (    ) 소괄호로 만든다.\n",
        "\n",
        "tuple1=()\n",
        "tuple2=(1,) # 튜플은 원소 하나짜리로 만들때는 반드시 쉼표를 넣는다.\n",
        "tuple3=(1,2,3)\n",
        "tuple4=1,2,3 # 튜플은 괄호를 생략할 수 있다.\n",
        "tuple5=(1,2,3,(4,5,6)) # 튜플 안에 튜플도 포함할 수 있다.\n",
        "\n",
        "\n",
        "print(tuple5)\n"
      ],
      "metadata": {
        "colab": {
          "base_uri": "https://localhost:8080/"
        },
        "id": "ji11414qdyE5",
        "outputId": "b3fa7874-8c9a-478b-be69-f6f09f148a5c"
      },
      "execution_count": null,
      "outputs": [
        {
          "output_type": "stream",
          "name": "stdout",
          "text": [
            "(1, 2, 3, (4, 5, 6))\n"
          ]
        }
      ]
    },
    {
      "cell_type": "code",
      "source": [
        "tuple1=(1,2,3,4)\n",
        "# del tuple1(0) 튜플에서는 삭제가 불가능하다.\n",
        "# tuple1[0]=1 튜플에서는 변경도 불가능하다."
      ],
      "metadata": {
        "id": "-GtygspznAdA"
      },
      "execution_count": null,
      "outputs": []
    },
    {
      "cell_type": "code",
      "source": [
        "# 튜플은 인덱싱 가능하다.\n",
        "\n",
        "tuple1=(1,2,3,4,5)\n",
        "tuple1[-1] # -1은 리스트의 마지막 인덱스 번호이다."
      ],
      "metadata": {
        "colab": {
          "base_uri": "https://localhost:8080/"
        },
        "id": "U5RMKYjpozBg",
        "outputId": "b9e1bc57-1b3a-4e6f-c8f4-1d4822f97567"
      },
      "execution_count": null,
      "outputs": [
        {
          "output_type": "execute_result",
          "data": {
            "text/plain": [
              "5"
            ]
          },
          "metadata": {},
          "execution_count": 68
        }
      ]
    },
    {
      "cell_type": "code",
      "source": [
        "# 튜플은 슬라이싱 가능하다.\n",
        "\n",
        "tuple1=(1,2,3,4,5)\n",
        "tuple1[0:3] # 두번째 숫자는 미만으로 해석된다."
      ],
      "metadata": {
        "colab": {
          "base_uri": "https://localhost:8080/"
        },
        "id": "VAE_cVHSpSMv",
        "outputId": "f54a152f-e12d-4696-911e-8315581d1766"
      },
      "execution_count": null,
      "outputs": [
        {
          "output_type": "execute_result",
          "data": {
            "text/plain": [
              "(1, 2, 3)"
            ]
          },
          "metadata": {},
          "execution_count": 70
        }
      ]
    },
    {
      "cell_type": "code",
      "source": [
        "# 튜플의 요소 갯수\n",
        "\n",
        "tu1 = (1,2,3,4,5)\n",
        "print(len(tu1))"
      ],
      "metadata": {
        "colab": {
          "base_uri": "https://localhost:8080/"
        },
        "id": "o7QVZUyHqDO_",
        "outputId": "66e3d08b-4828-455a-af55-4bf9d5173664"
      },
      "execution_count": null,
      "outputs": [
        {
          "output_type": "stream",
          "name": "stdout",
          "text": [
            "5\n"
          ]
        }
      ]
    },
    {
      "cell_type": "code",
      "source": [
        "# 딕셔너리 Dict\n",
        "\n",
        "# 이름 그대로 dictionary 사전 처럼 키값, 밸류값의 쌍으로 데이터가 저장되는 자료형이다.\n",
        "# 리스트처럼 mutable한 속성을 가지고 있으나 인덱싱과 슬라이싱은 지원하지 않는다. 순서가 없다. 따라서, 키값으로 밸류값을 꺼낸다.\n",
        "\n",
        "adict = {5:'a',3:'b',2:'c'}\n",
        "print(adict[5])\n",
        "print(adict)\n",
        "\n",
        "adict[9] = 'd'\n",
        "print(adict)\n",
        "\n",
        "del adict[3]\n",
        "print(adict)\n",
        "\n",
        "adict[0] # 딕셔너리는 인덱싱과 슬라이싱은 지원하지 않는다."
      ],
      "metadata": {
        "colab": {
          "base_uri": "https://localhost:8080/",
          "height": 284
        },
        "id": "JoFRhsAdqHXu",
        "outputId": "053e71ba-a22b-49e0-8674-1958f1a16278"
      },
      "execution_count": null,
      "outputs": [
        {
          "output_type": "stream",
          "name": "stdout",
          "text": [
            "a\n",
            "{5: 'a', 3: 'b', 2: 'c'}\n",
            "{5: 'a', 3: 'b', 2: 'c', 9: 'd'}\n",
            "{5: 'a', 2: 'c', 9: 'd'}\n"
          ]
        },
        {
          "output_type": "error",
          "ename": "KeyError",
          "evalue": "ignored",
          "traceback": [
            "\u001b[0;31m---------------------------------------------------------------------------\u001b[0m",
            "\u001b[0;31mKeyError\u001b[0m                                  Traceback (most recent call last)",
            "\u001b[0;32m<ipython-input-82-adb5f1996900>\u001b[0m in \u001b[0;36m<module>\u001b[0;34m\u001b[0m\n\u001b[1;32m     13\u001b[0m \u001b[0;32mdel\u001b[0m \u001b[0madict\u001b[0m\u001b[0;34m[\u001b[0m\u001b[0;36m3\u001b[0m\u001b[0;34m]\u001b[0m\u001b[0;34m\u001b[0m\u001b[0;34m\u001b[0m\u001b[0m\n\u001b[1;32m     14\u001b[0m \u001b[0mprint\u001b[0m\u001b[0;34m(\u001b[0m\u001b[0madict\u001b[0m\u001b[0;34m)\u001b[0m\u001b[0;34m\u001b[0m\u001b[0;34m\u001b[0m\u001b[0m\n\u001b[0;32m---> 15\u001b[0;31m \u001b[0madict\u001b[0m\u001b[0;34m[\u001b[0m\u001b[0;36m0\u001b[0m\u001b[0;34m]\u001b[0m \u001b[0;31m# 딕셔너리는 인덱싱과 슬라이싱은 지원하지 않는다.\u001b[0m\u001b[0;34m\u001b[0m\u001b[0;34m\u001b[0m\u001b[0m\n\u001b[0m",
            "\u001b[0;31mKeyError\u001b[0m: 0"
          ]
        }
      ]
    },
    {
      "cell_type": "code",
      "source": [
        "# 딕셔너리에서 키값만 추출하는 기능 keys\n",
        "\n",
        "adict = {5:'a',3:'b',2:'c'}\n",
        "\n",
        "print(adict.keys())\n",
        "\n",
        "# 딕셔너리에서 밸류값만 추출하는 기능 values\n",
        "\n",
        "print(adict.values())\n",
        "\n",
        "# 딕셔너리에서 키값과 밸류값을 쌍으로 추출하는 기능 items\n",
        "\n",
        "print(adict.items()) # >> 튜플과 리스트로 뽑아주기 때문에 인덱싱과 슬라이싱 가능하게 만들어줌.\n",
        "\n",
        "# 딕셔너리에 키값이 존재하는지 확인하는 기능 in\n",
        "\n",
        "5 in adict"
      ],
      "metadata": {
        "colab": {
          "base_uri": "https://localhost:8080/"
        },
        "id": "kVrDTpyorvxo",
        "outputId": "52db1d1f-131e-4a7e-cb03-f629e771c386"
      },
      "execution_count": null,
      "outputs": [
        {
          "output_type": "stream",
          "name": "stdout",
          "text": [
            "dict_keys([5, 3, 2])\n",
            "dict_values(['a', 'b', 'c'])\n",
            "dict_items([(5, 'a'), (3, 'b'), (2, 'c')])\n"
          ]
        },
        {
          "output_type": "execute_result",
          "data": {
            "text/plain": [
              "True"
            ]
          },
          "metadata": {},
          "execution_count": 90
        }
      ]
    },
    {
      "cell_type": "code",
      "source": [
        "# Set 집합\n",
        "# 중복을 허용하지 않는다.\n",
        "# 삽입, 삭제가 가능한 mutable 한 속성을 갖는다.\n",
        "# 인덱싱과 슬라이싱이 불가능하다. (inordered : 순서가 없음)\n",
        "\n",
        "s1={1,2,3,4,1,2}\n",
        "\n",
        "print(s1)\n",
        "print(type(s1))\n",
        "\n",
        "# Set은 중복제거기능이 주된 기능"
      ],
      "metadata": {
        "colab": {
          "base_uri": "https://localhost:8080/"
        },
        "id": "CaW8Hci6tXuf",
        "outputId": "abddd0b7-25ea-406e-b405-59c939746657"
      },
      "execution_count": null,
      "outputs": [
        {
          "output_type": "stream",
          "name": "stdout",
          "text": [
            "{1, 2, 3, 4}\n",
            "<class 'set'>\n"
          ]
        }
      ]
    },
    {
      "cell_type": "code",
      "source": [
        "# Boolean True False  (반드시 대문자) #앨런튜링\n",
        "1==1"
      ],
      "metadata": {
        "colab": {
          "base_uri": "https://localhost:8080/"
        },
        "id": "Hz3NAqD0upHQ",
        "outputId": "1b962b48-cd47-40fb-ed77-a73635ded8d6"
      },
      "execution_count": null,
      "outputs": [
        {
          "output_type": "execute_result",
          "data": {
            "text/plain": [
              "True"
            ]
          },
          "metadata": {},
          "execution_count": 96
        }
      ]
    },
    {
      "cell_type": "code",
      "source": [
        "# 숙제용 문법\n",
        "\n",
        "a=\"hi\"\n",
        "print(a)"
      ],
      "metadata": {
        "colab": {
          "base_uri": "https://localhost:8080/"
        },
        "id": "fXHDnQ_Xz27I",
        "outputId": "962b883a-2cb5-4e8a-eb96-c6e4863fb5c6"
      },
      "execution_count": null,
      "outputs": [
        {
          "output_type": "stream",
          "name": "stdout",
          "text": [
            "hi\n"
          ]
        }
      ]
    },
    {
      "cell_type": "code",
      "source": [
        "a=input(\"출력할 내용을 입력하세요 \")\n",
        "print(\"입력하실 내용은 \", a , \"입니다.\")\n"
      ],
      "metadata": {
        "colab": {
          "base_uri": "https://localhost:8080/"
        },
        "id": "YTtfn4I70BwM",
        "outputId": "168c924a-bdb3-4975-85b7-14356af41e90"
      },
      "execution_count": null,
      "outputs": [
        {
          "output_type": "stream",
          "name": "stdout",
          "text": [
            "출력할 내용을 입력하세요 ㅇㅇ\n",
            "입력하실 내용은  ㅇㅇ 입니다.\n"
          ]
        }
      ]
    }
  ]
}