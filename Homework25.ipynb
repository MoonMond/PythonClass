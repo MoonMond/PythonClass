{
  "nbformat": 4,
  "nbformat_minor": 0,
  "metadata": {
    "colab": {
      "provenance": [],
      "authorship_tag": "ABX9TyOYSfxxSz7RLyKQCyY33w/6",
      "include_colab_link": true
    },
    "kernelspec": {
      "name": "python3",
      "display_name": "Python 3"
    },
    "language_info": {
      "name": "python"
    }
  },
  "cells": [
    {
      "cell_type": "markdown",
      "metadata": {
        "id": "view-in-github",
        "colab_type": "text"
      },
      "source": [
        "<a href=\"https://colab.research.google.com/github/MoonMond/PythonClass/blob/main/Homework25.ipynb\" target=\"_parent\"><img src=\"https://colab.research.google.com/assets/colab-badge.svg\" alt=\"Open In Colab\"/></a>"
      ]
    },
    {
      "cell_type": "code",
      "execution_count": 2,
      "metadata": {
        "colab": {
          "base_uri": "https://localhost:8080/"
        },
        "id": "WA1DsnwnibXZ",
        "outputId": "a018a40a-412d-43c2-b6fe-764627a653d0"
      },
      "outputs": [
        {
          "output_type": "stream",
          "name": "stdout",
          "text": [
            "[[2, 5, 8], [3, 7, 4], [1, 6, 9], [4, 2, 0]]\n",
            "row : 2\n",
            "column : 1\n",
            "6\n",
            "보고싶은 row : 0\n",
            "[2, 5, 8]\n",
            "추가할 숫자 : 9\n",
            "[2, 5, 8, 9]\n"
          ]
        }
      ],
      "source": [
        "# 096\n",
        "a=[[2,5,8],[3,7,4],[1,6,9],[4,2,0]]\n",
        "print(a)\n",
        "\n",
        "# 097\n",
        "b=int(input(\"row : \"))\n",
        "c=int(input(\"column : \"))\n",
        "print(a[b][c])\n",
        "\n",
        "# 098\n",
        "d=int(input(\"보고싶은 row : \"))\n",
        "print(a[d])\n",
        "e=int(input(\"추가할 숫자 : \"))\n",
        "a[d].append(e)\n",
        "print(a[d])"
      ]
    },
    {
      "cell_type": "code",
      "source": [
        "# 099\n",
        "a=[[2,5,8],[3,7,4],[1,6,9],[4,2,0]]\n",
        "print(a)\n",
        "b=int(input(\"보고싶은 row : \"))\n",
        "print(a[b])\n",
        "c=int(input(\"보고싶은 colunm : \"))\n",
        "print(a[b][c])\n",
        "if input(\"다른 숫자로 바꾸고 싶은가? \")==\"yes\":\n",
        "  d=int(input(\"어떤 숫자로? \"))\n",
        "  a[b][c]=d\n",
        "print(a[b])"
      ],
      "metadata": {
        "colab": {
          "base_uri": "https://localhost:8080/"
        },
        "id": "HFQnWOROjH0S",
        "outputId": "21a52faf-1fd0-4178-abef-f09bb6892ef9"
      },
      "execution_count": 5,
      "outputs": [
        {
          "output_type": "stream",
          "name": "stdout",
          "text": [
            "[[2, 5, 8], [3, 7, 4], [1, 6, 9], [4, 2, 0]]\n",
            "보고싶은 row : 1\n",
            "[3, 7, 4]\n",
            "보고싶은 colunm : 1\n",
            "7\n",
            "다른 숫자로 바꾸고 싶은가? yes\n",
            "어떤 숫자로? 10\n",
            "[3, 10, 4]\n"
          ]
        }
      ]
    },
    {
      "cell_type": "code",
      "source": [
        "# 100\n",
        "a={\"John\":{\"N\":3056,\"S\":8463,\"E\":8441,\"W\":2694},\"Tom\":{\"N\":4832,\"S\":6786,\"E\":4737,\"W\":3612},\"Anne\":{\"N\":5239,\"S\":4802,\"E\":5820,\"W\":1859},\"Fiona\":{\"N\":3904,\"S\":3645,\"E\":8821,\"W\":2451}}\n",
        "\n",
        "# 101\n",
        "b=input(\"name :\")\n",
        "c=input(\"region :\")\n",
        "print(a[b][c])\n",
        "d=input(\"수정하고 싶은 사람 이름 : \")\n",
        "e=input(\"수정하고 지역 : \")\n",
        "f=int(input(\"숫자를 바꾸시오 : \"))\n",
        "a[d][e]=f\n",
        "print(a[d])"
      ],
      "metadata": {
        "colab": {
          "base_uri": "https://localhost:8080/"
        },
        "id": "AarFo8N4lHgP",
        "outputId": "28839536-af56-4923-d289-b40d8081c8b1"
      },
      "execution_count": 7,
      "outputs": [
        {
          "output_type": "stream",
          "name": "stdout",
          "text": [
            "name :Tom\n",
            "region :N\n",
            "4832\n",
            "수정하고 싶은 사람 이름 : Tom\n",
            "수정하고 지역 : S\n",
            "숫자를 바꾸시오 : 6666\n",
            "{'N': 4832, 'S': 6666, 'E': 4737, 'W': 3612}\n"
          ]
        }
      ]
    },
    {
      "cell_type": "code",
      "source": [
        "# 102\n",
        "list1=[[],[],[],[]]\n",
        "for i in range(4):\n",
        "  a=input(\"이름 : \")\n",
        "  list1[i].append(a)\n",
        "  b=int(input(\"나이 : \"))\n",
        "  list1[i].append(b)\n",
        "  c=int(input(\"신발 사이즈 : \"))\n",
        "  list1[i].append(c)\n",
        "print(list1)\n",
        "d=input(\"찾는 이름 : \")\n",
        "for j in range(4):\n",
        "  if list1[j][0]==d:\n",
        "    print(f'나이는 {list1[j][1]}, 신발 사이즈는 {list1[j][2]}이다')"
      ],
      "metadata": {
        "colab": {
          "base_uri": "https://localhost:8080/"
        },
        "id": "qe02LucfoK6F",
        "outputId": "f26a8ea0-bd2b-4c94-e5d4-1242057af188"
      },
      "execution_count": 18,
      "outputs": [
        {
          "output_type": "stream",
          "name": "stdout",
          "text": [
            "이름 : aa\n",
            "나이 : 1\n",
            "신발 사이즈 : 1\n",
            "이름 : bb\n",
            "나이 : 2\n",
            "신발 사이즈 : 2\n",
            "이름 : cc\n",
            "나이 : 3\n",
            "신발 사이즈 : 3\n",
            "이름 : dd\n",
            "나이 : 4\n",
            "신발 사이즈 : 4\n",
            "[['aa', 1, 1], ['bb', 2, 2], ['cc', 3, 3], ['dd', 4, 4]]\n",
            "찾는 이름 : dd\n",
            "나이는 4, 신발 사이즈는 4이다\n"
          ]
        }
      ]
    },
    {
      "cell_type": "code",
      "source": [
        "# 103\n",
        "list1=[[],[],[],[]]\n",
        "for i in range(4):\n",
        "  a=input(\"이름 : \")\n",
        "  list1[i].append(a)\n",
        "  b=int(input(\"나이 : \"))\n",
        "  list1[i].append(b)\n",
        "  c=int(input(\"신발 사이즈 : \"))\n",
        "  list1[i].append(c)\n",
        "for j in range(4):\n",
        "  print(f'이름 : 나이 = {list1[j][0]}:{list1[j][1]}')"
      ],
      "metadata": {
        "colab": {
          "base_uri": "https://localhost:8080/"
        },
        "id": "NAgJcfbqsvw8",
        "outputId": "a716a83a-2ca1-47dd-af40-21cbf66f1e50"
      },
      "execution_count": 20,
      "outputs": [
        {
          "output_type": "stream",
          "name": "stdout",
          "text": [
            "이름 : aa\n",
            "나이 : 1\n",
            "신발 사이즈 : 11\n",
            "이름 : bb\n",
            "나이 : 2\n",
            "신발 사이즈 : 22\n",
            "이름 : cc\n",
            "나이 : 3\n",
            "신발 사이즈 : 33\n",
            "이름 : dd\n",
            "나이 : 4\n",
            "신발 사이즈 : 44\n",
            "이름 : 나이 = aa:1\n",
            "이름 : 나이 = bb:2\n",
            "이름 : 나이 = cc:3\n",
            "이름 : 나이 = dd:4\n"
          ]
        }
      ]
    },
    {
      "cell_type": "code",
      "source": [
        "# 104\n",
        "list1=[[],[],[],[]]\n",
        "for i in range(4):\n",
        "  a=input(\"이름 : \")\n",
        "  list1[i].append(a)\n",
        "  b=int(input(\"나이 : \"))\n",
        "  list1[i].append(b)\n",
        "  c=int(input(\"신발 사이즈 : \"))\n",
        "  list1[i].append(c)\n",
        "d=input(\"제거하고 싶은 이름 : \")\n",
        "for j in range(4):\n",
        "  if list1[j][0]==d:\n",
        "    num=j\n",
        "del list1[num]\n",
        "for k in range(3):\n",
        "  print(list1[k])"
      ],
      "metadata": {
        "colab": {
          "base_uri": "https://localhost:8080/"
        },
        "id": "6g0gz-36tYMs",
        "outputId": "1ccb3019-9aaf-4fa4-a949-74cf6583a2b2"
      },
      "execution_count": 25,
      "outputs": [
        {
          "output_type": "stream",
          "name": "stdout",
          "text": [
            "이름 : a\n",
            "나이 : 11\n",
            "신발 사이즈 : 111\n",
            "이름 : b\n",
            "나이 : 22\n",
            "신발 사이즈 : 222\n",
            "이름 : c\n",
            "나이 : 33\n",
            "신발 사이즈 : 333\n",
            "이름 : d\n",
            "나이 : 4\n",
            "신발 사이즈 : 4444\n",
            "제거하고 싶은 이름 : a\n",
            "['b', 22, 222]\n",
            "['c', 33, 333]\n",
            "['d', 4, 4444]\n"
          ]
        }
      ]
    }
  ]
}