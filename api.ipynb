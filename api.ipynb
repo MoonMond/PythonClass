{
 "cells": [
  {
   "cell_type": "code",
   "execution_count": null,
   "id": "f03af0f1",
   "metadata": {},
   "outputs": [],
   "source": [
    "import sys                           # 윈도우 시스템 접근\n",
    "from PyQt5.QtWidgets import *        # PyQt5 모듈 읽어오기\n",
    "\n",
    "\n",
    "app = QApplication(sys.argv)          # 윈도우 창띄우기\n",
    "label = QLabel(\"Hello World\")         # 창에 글자 넣기\n",
    "label.show()                          # 글자 보여주기\n",
    "\n",
    "app.exec_()                           # 윈도우 창을 계속 유지 시켜주는 코드"
   ]
  },
  {
   "cell_type": "code",
   "execution_count": 1,
   "id": "789b6cbb",
   "metadata": {},
   "outputs": [
    {
     "data": {
      "text/plain": [
       "0"
      ]
     },
     "execution_count": 1,
     "metadata": {},
     "output_type": "execute_result"
    }
   ],
   "source": [
    "# 윈도우 창 크기 조절하여 띄우기\n",
    "\n",
    "import sys                           # 윈도우 시스템 접근\n",
    "from PyQt5.QtWidgets import *        # PyQt5 모듈 읽어오기\n",
    "\n",
    "\n",
    "class MyWindow(QMainWindow):\n",
    "    def __init__(self):\n",
    "        super().__init__()\n",
    "        self.setGeometry(100,200,300,400)\n",
    "        self.setWindowTitle(\"헬로우 월드!!!\")\n",
    "\n",
    "app = QApplication(sys.argv) # 윈도우 창띄우기\n",
    "window = MyWindow()\n",
    "window.show()\n",
    "\n",
    "app.exec_()                           # 윈도우 창을 계속 유지 시켜주는 코드"
   ]
  },
  {
   "cell_type": "code",
   "execution_count": 1,
   "id": "16e29ada",
   "metadata": {},
   "outputs": [
    {
     "data": {
      "text/plain": [
       "0"
      ]
     },
     "execution_count": 1,
     "metadata": {},
     "output_type": "execute_result"
    }
   ],
   "source": [
    "# Qt Designer 사용하기\n",
    "\n",
    "import sys                           # 윈도우 시스템 접근\n",
    "from PyQt5.QtWidgets import *        # PyQt5 모듈 읽어오기\n",
    "from PyQt5 import uic                # Designer 로 만든 창을 사용만 하기\n",
    "\n",
    "form_class = uic.loadUiType(\"Mywindow.ui\")[0]  # Designer 로 만든 창 사용하기\n",
    "\n",
    "class MyWindow(QMainWindow, form_class):\n",
    "    def __init__(self):\n",
    "        super().__init__()\n",
    "        self.setupUi(self)\n",
    "#         self.setGeometry(100,200,300,400)\n",
    "#         self.setWindowTitle(\"헬로우 월드 !!!\")\n",
    "#         btn = QPushButton(\"버튼\", self)\n",
    "\n",
    "app = QApplication(sys.argv) # 윈도우 창띄우기\n",
    "window = MyWindow()\n",
    "window.show()\n",
    "\n",
    "app.exec_()                           # 윈도우 창을 계속 유지 시켜주는 코드"
   ]
  },
  {
   "cell_type": "code",
   "execution_count": 1,
   "id": "c6c078aa",
   "metadata": {},
   "outputs": [
    {
     "name": "stdout",
     "output_type": "stream",
     "text": [
      "버튼을 눌렀습니다.\n",
      "버튼을 눌렀습니다.\n"
     ]
    },
    {
     "data": {
      "text/plain": [
       "0"
      ]
     },
     "execution_count": 1,
     "metadata": {},
     "output_type": "execute_result"
    }
   ],
   "source": [
    "# 단추 동작 확인하기\n",
    "\n",
    "import sys                           # 윈도우 시스템 접근\n",
    "from PyQt5.QtWidgets import *        # PyQt5 모듈 읽어오기\n",
    "from PyQt5 import uic                # Designer 로 만든 창을 사용만 하기\n",
    "\n",
    "form_class = uic.loadUiType(\"Mywindow.ui\")[0]  # Designer 로 만든 창 사용하기\n",
    "\n",
    "class MyWindow(QMainWindow, form_class):\n",
    "    def __init__(self):\n",
    "        super().__init__()\n",
    "        self.setupUi(self)\n",
    "        self.pushButton.clicked.connect(self.btn_clicked)\n",
    "        \n",
    "    def btn_clicked(self):\n",
    "        print(\"버튼을 눌렀습니다.\")\n",
    "\n",
    "\n",
    "app = QApplication(sys.argv) # 윈도우 창띄우기\n",
    "window = MyWindow()\n",
    "window.show()\n",
    "\n",
    "app.exec_()                           # 윈도우 창을 계속 유지 시켜주는 코드"
   ]
  },
  {
   "cell_type": "code",
   "execution_count": null,
   "id": "524f3c2f",
   "metadata": {},
   "outputs": [],
   "source": [
    "import sys                           # 윈도우 시스템 접근\n",
    "from PyQt5.QtWidgets import *        # PyQt5 모듈 읽어오기\n",
    "from PyQt5 import uic                # Designer 로 만든 창을 사용만 하기\n",
    "\n",
    "form_class = uic.loadUiType(\"Mywindow.ui\")[0]  # Designer 로 만든 창 사용하기\n",
    "\n",
    "class MyWindow(QMainWindow, form_class):\n",
    "    def __init__(self):\n",
    "        super().__init__()\n",
    "        self.setupUi(self)\n",
    "        self.pushButton.clicked.connect(self.btn_clicked)\n",
    "        \n",
    "    def btn_clicked(self):\n",
    "        print(\"버튼을 눌렀습니다.\")\n",
    "\n",
    "\n",
    "app = QApplication(sys.argv) # 윈도우 창띄우기\n",
    "window = MyWindow()\n",
    "window.show()\n",
    "\n",
    "app.exec_()                           # 윈도우 창을 계속 유지 시켜주는 코드"
   ]
  },
  {
   "cell_type": "code",
   "execution_count": 2,
   "id": "8e08f37c",
   "metadata": {},
   "outputs": [
    {
     "name": "stdout",
     "output_type": "stream",
     "text": [
      "Collecting pybithumb\n",
      "  Downloading pybithumb-1.0.21-py3-none-any.whl (9.9 kB)\n",
      "Collecting bs4\n",
      "  Downloading bs4-0.0.1.tar.gz (1.1 kB)\n",
      "  Preparing metadata (setup.py): started\n",
      "  Preparing metadata (setup.py): finished with status 'done'\n",
      "Collecting html5lib\n",
      "  Downloading html5lib-1.1-py2.py3-none-any.whl (112 kB)\n",
      "     -------------------------------------- 112.2/112.2 kB 6.4 MB/s eta 0:00:00\n",
      "Collecting websockets\n",
      "  Downloading websockets-10.4-cp39-cp39-win_amd64.whl (101 kB)\n",
      "     -------------------------------------- 101.4/101.4 kB 5.7 MB/s eta 0:00:00\n",
      "Requirement already satisfied: requests in c:\\users\\ezen\\anaconda3\\lib\\site-packages (from pybithumb) (2.28.1)\n",
      "Requirement already satisfied: pandas in c:\\users\\ezen\\anaconda3\\lib\\site-packages (from pybithumb) (1.4.4)\n",
      "Collecting datetime\n",
      "  Downloading DateTime-4.7-py2.py3-none-any.whl (52 kB)\n",
      "     ---------------------------------------- 52.2/52.2 kB 2.8 MB/s eta 0:00:00\n",
      "Requirement already satisfied: beautifulsoup4 in c:\\users\\ezen\\anaconda3\\lib\\site-packages (from bs4->pybithumb) (4.11.1)\n",
      "Requirement already satisfied: zope.interface in c:\\users\\ezen\\anaconda3\\lib\\site-packages (from datetime->pybithumb) (5.4.0)\n",
      "Requirement already satisfied: pytz in c:\\users\\ezen\\anaconda3\\lib\\site-packages (from datetime->pybithumb) (2022.1)\n",
      "Requirement already satisfied: webencodings in c:\\users\\ezen\\anaconda3\\lib\\site-packages (from html5lib->pybithumb) (0.5.1)\n",
      "Requirement already satisfied: six>=1.9 in c:\\users\\ezen\\anaconda3\\lib\\site-packages (from html5lib->pybithumb) (1.16.0)\n",
      "Requirement already satisfied: python-dateutil>=2.8.1 in c:\\users\\ezen\\anaconda3\\lib\\site-packages (from pandas->pybithumb) (2.8.2)\n",
      "Requirement already satisfied: numpy>=1.18.5 in c:\\users\\ezen\\anaconda3\\lib\\site-packages (from pandas->pybithumb) (1.21.5)\n",
      "Requirement already satisfied: charset-normalizer<3,>=2 in c:\\users\\ezen\\anaconda3\\lib\\site-packages (from requests->pybithumb) (2.0.4)\n",
      "Requirement already satisfied: idna<4,>=2.5 in c:\\users\\ezen\\anaconda3\\lib\\site-packages (from requests->pybithumb) (3.3)\n",
      "Requirement already satisfied: certifi>=2017.4.17 in c:\\users\\ezen\\anaconda3\\lib\\site-packages (from requests->pybithumb) (2022.9.14)\n",
      "Requirement already satisfied: urllib3<1.27,>=1.21.1 in c:\\users\\ezen\\anaconda3\\lib\\site-packages (from requests->pybithumb) (1.26.11)\n",
      "Requirement already satisfied: soupsieve>1.2 in c:\\users\\ezen\\anaconda3\\lib\\site-packages (from beautifulsoup4->bs4->pybithumb) (2.3.1)\n",
      "Requirement already satisfied: setuptools in c:\\users\\ezen\\anaconda3\\lib\\site-packages (from zope.interface->datetime->pybithumb) (63.4.1)\n",
      "Building wheels for collected packages: bs4\n",
      "  Building wheel for bs4 (setup.py): started\n",
      "  Building wheel for bs4 (setup.py): finished with status 'done'\n",
      "  Created wheel for bs4: filename=bs4-0.0.1-py3-none-any.whl size=1257 sha256=0e5e1ea3f392078e7f4e399dbc7f8c41052d7e2f33cb0d829094e6099ff8fad4\n",
      "  Stored in directory: c:\\users\\ezen\\appdata\\local\\pip\\cache\\wheels\\73\\2b\\cb\\099980278a0c9a3e57ff1a89875ec07bfa0b6fcbebb9a8cad3\n",
      "Successfully built bs4\n",
      "Installing collected packages: websockets, html5lib, datetime, bs4, pybithumb\n",
      "Successfully installed bs4-0.0.1 datetime-4.7 html5lib-1.1 pybithumb-1.0.21 websockets-10.4\n",
      "Note: you may need to restart the kernel to use updated packages.\n"
     ]
    }
   ],
   "source": [
    "pip install pybithumb"
   ]
  },
  {
   "cell_type": "code",
   "execution_count": 1,
   "id": "a1714920",
   "metadata": {},
   "outputs": [
    {
     "name": "stdout",
     "output_type": "stream",
     "text": [
      "22872000.0\n",
      "22874000.0\n",
      "22874000.0\n"
     ]
    },
    {
     "data": {
      "text/plain": [
       "0"
      ]
     },
     "execution_count": 1,
     "metadata": {},
     "output_type": "execute_result"
    }
   ],
   "source": [
    "# 단추를 클릭하면 가격 조회해서 출력하기\n",
    "\n",
    "# pip install pybithumb    빗섬에서 만든 api를 사용하기 위해 모듈 설치 (처음 한번만 설치)\n",
    "\n",
    "import sys                           # 윈도우 시스템 접근\n",
    "from PyQt5.QtWidgets import *        # PyQt5 모듈 읽어오기\n",
    "from PyQt5 import uic                # Designer 로 만든 창을 사용만 하기\n",
    "import pybithumb                     # api 모듈 읽어오기\n",
    "\n",
    "form_class = uic.loadUiType(\"Mywindow.ui\")[0]  # Designer 로 만든 창 사용하기\n",
    "\n",
    "class MyWindow(QMainWindow, form_class):\n",
    "    def __init__(self):\n",
    "        super().__init__()\n",
    "        self.setupUi(self)\n",
    "        self.pushButton.clicked.connect(self.btn_clicked)\n",
    "\n",
    "        \n",
    "    def btn_clicked(self):\n",
    "        price = pybithumb.get_current_price(\"BTC\")\n",
    "        print(price)\n",
    "        \n",
    "\n",
    "app = QApplication(sys.argv) # 윈도우 창띄우기\n",
    "window = MyWindow()\n",
    "window.show()\n",
    "\n",
    "app.exec_()"
   ]
  },
  {
   "cell_type": "code",
   "execution_count": 3,
   "id": "01e052c9",
   "metadata": {},
   "outputs": [
    {
     "name": "stdout",
     "output_type": "stream",
     "text": [
      "22870000.0\n"
     ]
    }
   ],
   "source": [
    "import pybithumb\n",
    "\n",
    "price=pybithumb.get_current_price(\"BTC\")\n",
    "print(price)"
   ]
  },
  {
   "cell_type": "code",
   "execution_count": 1,
   "id": "043bcb5b",
   "metadata": {},
   "outputs": [
    {
     "data": {
      "text/plain": [
       "0"
      ]
     },
     "execution_count": 1,
     "metadata": {},
     "output_type": "execute_result"
    }
   ],
   "source": [
    "# 단추를 클릭하면 가격 조회해서 출력하기\n",
    "\n",
    "# pip install pybithumb    빗섬에서 만든 api를 사용하기 위해 모듈 설치 (처음 한번만 설치)\n",
    "\n",
    "import sys                           # 윈도우 시스템 접근\n",
    "from PyQt5.QtWidgets import *        # PyQt5 모듈 읽어오기\n",
    "from PyQt5 import uic                # Designer 로 만든 창을 사용만 하기\n",
    "import pybithumb                     # api 모듈 읽어오기\n",
    "\n",
    "form_class = uic.loadUiType(\"Mywindow.ui\")[0]  # Designer 로 만든 창 사용하기\n",
    "\n",
    "class MyWindow(QMainWindow, form_class):\n",
    "    def __init__(self):\n",
    "        super().__init__()\n",
    "        self.setupUi(self)\n",
    "        self.pushButton.clicked.connect(self.btn_clicked)\n",
    "\n",
    "        \n",
    "    def btn_clicked(self):\n",
    "        price1 = pybithumb.get_current_price(\"BTC\")\n",
    "        self.lineEdit_1.setText(str(price1))\n",
    "        price2 = pybithumb.get_current_price(\"ETH\")\n",
    "        self.lineEdit_2.setText(str(price2))\n",
    "        price3 = pybithumb.get_current_price(\"XRP\")\n",
    "        self.lineEdit_3.setText(str(price3))\n",
    "\n",
    "app = QApplication(sys.argv) # 윈도우 창띄우기\n",
    "window = MyWindow()\n",
    "window.show()\n",
    "\n",
    "app.exec_()"
   ]
  },
  {
   "cell_type": "code",
   "execution_count": null,
   "id": "46c59408",
   "metadata": {},
   "outputs": [],
   "source": [
    "# 몇개의 데이터를 조회해서 몇개의 칸에 넣기는 쉽지만\n",
    "# 예를 들면, 음원 사이트에서 100곡을 조회해서 넣으려면 가수명 100개, 노래제목 100개의 칸을 구성해야해서 어렵\n",
    "\n",
    "# pip install pybithumb    빗섬에서 만든 api를 사용하기 위해 모듈 설치 (처음 한번만 설치)\n",
    "\n",
    "import sys                           # 윈도우 시스템 접근\n",
    "from PyQt5.QtWidgets import *        # PyQt5 모듈 읽어오기\n",
    "from PyQt5 import uic                # Designer 로 만든 창을 사용만 하기\n",
    "import pybithumb                     # api 모듈 읽어오기\n",
    "\n",
    "form_class = uic.loadUiType(\"Mywindow.ui\")[0]  # Designer 로 만든 창 사용하기\n",
    "\n",
    "class MyWindow(QMainWindow, form_class):\n",
    "    def __init__(self):\n",
    "        super().__init__()\n",
    "        self.setupUi(self)\n",
    "        self.pushButton.clicked.connect(self.btn_clicked)\n",
    "\n",
    "        \n",
    "    def btn_clicked(self):\n",
    "        price1 = pybithumb.get_current_price(\"BTC\")\n",
    "        self.lineEdit_1.setText(str(price1))\n",
    "        price2 = pybithumb.get_current_price(\"ETH\")\n",
    "        self.lineEdit_2.setText(str(price2))\n",
    "        price3 = pybithumb.get_current_price(\"XRP\")\n",
    "        self.lineEdit_3.setText(str(price3))\n",
    "\n",
    "app = QApplication(sys.argv) # 윈도우 창띄우기\n",
    "window = MyWindow()\n",
    "window.show()\n",
    "\n",
    "app.exec_()"
   ]
  },
  {
   "cell_type": "code",
   "execution_count": 1,
   "id": "a725934d",
   "metadata": {},
   "outputs": [
    {
     "ename": "NameError",
     "evalue": "name 'QtableWidgetItem' is not defined",
     "output_type": "error",
     "traceback": [
      "\u001b[1;31m---------------------------------------------------------------------------\u001b[0m",
      "\u001b[1;31mNameError\u001b[0m                                 Traceback (most recent call last)",
      "\u001b[1;32m~\\AppData\\Local\\Temp\\ipykernel_6568\\518713647.py\u001b[0m in \u001b[0;36mbtn_clicked\u001b[1;34m(self)\u001b[0m\n\u001b[0;32m     16\u001b[0m     \u001b[1;32mdef\u001b[0m \u001b[0mbtn_clicked\u001b[0m\u001b[1;33m(\u001b[0m\u001b[0mself\u001b[0m\u001b[1;33m)\u001b[0m\u001b[1;33m:\u001b[0m\u001b[1;33m\u001b[0m\u001b[1;33m\u001b[0m\u001b[0m\n\u001b[0;32m     17\u001b[0m         \u001b[1;32mfor\u001b[0m \u001b[0mi\u001b[0m\u001b[1;33m,\u001b[0m \u001b[0mticker\u001b[0m \u001b[1;32min\u001b[0m \u001b[0menumerate\u001b[0m\u001b[1;33m(\u001b[0m\u001b[0mtickers\u001b[0m\u001b[1;33m)\u001b[0m\u001b[1;33m:\u001b[0m\u001b[1;33m\u001b[0m\u001b[1;33m\u001b[0m\u001b[0m\n\u001b[1;32m---> 18\u001b[1;33m             \u001b[0mitem\u001b[0m \u001b[1;33m=\u001b[0m \u001b[0mQtableWidgetItem\u001b[0m\u001b[1;33m(\u001b[0m\u001b[0mticker\u001b[0m\u001b[1;33m)\u001b[0m\u001b[1;33m\u001b[0m\u001b[1;33m\u001b[0m\u001b[0m\n\u001b[0m\u001b[0;32m     19\u001b[0m             \u001b[0mself\u001b[0m\u001b[1;33m.\u001b[0m\u001b[0mtableWidget\u001b[0m\u001b[1;33m.\u001b[0m\u001b[0msetItem\u001b[0m\u001b[1;33m(\u001b[0m\u001b[0mi\u001b[0m\u001b[1;33m,\u001b[0m\u001b[1;36m0\u001b[0m\u001b[1;33m,\u001b[0m\u001b[0mitem\u001b[0m\u001b[1;33m)\u001b[0m\u001b[1;33m\u001b[0m\u001b[1;33m\u001b[0m\u001b[0m\n\u001b[0;32m     20\u001b[0m \u001b[1;33m\u001b[0m\u001b[0m\n",
      "\u001b[1;31mNameError\u001b[0m: name 'QtableWidgetItem' is not defined"
     ]
    },
    {
     "data": {
      "text/plain": [
       "0"
      ]
     },
     "execution_count": 1,
     "metadata": {},
     "output_type": "execute_result"
    }
   ],
   "source": [
    "import sys                           # 윈도우 시스템 접근\n",
    "from PyQt5.QtWidgets import *        # PyQt5 모듈 읽어오기\n",
    "from PyQt5 import uic                # Designer 로 만든 창을 사용만 하기\n",
    "import pybithumb                     # api 모듈 읽어오기\n",
    "\n",
    "tickers=[\"BTC\", \"ETH\", \"XRP\",\"ADA\"]\n",
    "form_class = uic.loadUiType(\"Mywindow2.ui\")[0]  # Designer 로 만든 창 사용하기\n",
    "\n",
    "class MyWindow(QMainWindow, form_class):\n",
    "    def __init__(self):\n",
    "        super().__init__()\n",
    "        self.setupUi(self)\n",
    "        self.pushButton.clicked.connect(self.btn_clicked)\n",
    "\n",
    "        \n",
    "    def btn_clicked(self):\n",
    "        for i, ticker in enumerate(tickers):\n",
    "            item = QtableWidgetItem(ticker)\n",
    "            self.tableWidget.setItem(i,0,item)\n",
    "\n",
    "\n",
    "\n",
    "\n",
    "app = QApplication(sys.argv) # 윈도우 창띄우기\n",
    "window = MyWindow()\n",
    "window.show()\n",
    "\n",
    "app.exec_()"
   ]
  },
  {
   "cell_type": "code",
   "execution_count": 2,
   "id": "dff078a8",
   "metadata": {},
   "outputs": [
    {
     "name": "stdout",
     "output_type": "stream",
     "text": [
      "Collecting pyinstaller\n",
      "  Downloading pyinstaller-5.7.0-py3-none-win_amd64.whl (1.3 MB)\n",
      "     ---------------------------------------- 1.3/1.3 MB 10.0 MB/s eta 0:00:00\n",
      "Collecting altgraph\n",
      "  Downloading altgraph-0.17.3-py2.py3-none-any.whl (21 kB)\n",
      "Requirement already satisfied: pywin32-ctypes>=0.2.0 in c:\\users\\ezen\\anaconda3\\lib\\site-packages (from pyinstaller) (0.2.0)\n",
      "Collecting pefile>=2022.5.30\n",
      "  Downloading pefile-2022.5.30.tar.gz (72 kB)\n",
      "     ---------------------------------------- 72.9/72.9 kB 4.2 MB/s eta 0:00:00\n",
      "  Preparing metadata (setup.py): started\n",
      "  Preparing metadata (setup.py): finished with status 'done'\n",
      "Collecting pyinstaller-hooks-contrib>=2021.4\n",
      "  Downloading pyinstaller_hooks_contrib-2022.14-py2.py3-none-any.whl (252 kB)\n",
      "     -------------------------------------- 252.6/252.6 kB 7.8 MB/s eta 0:00:00\n",
      "Requirement already satisfied: setuptools>=42.0.0 in c:\\users\\ezen\\anaconda3\\lib\\site-packages (from pyinstaller) (63.4.1)\n",
      "Requirement already satisfied: future in c:\\users\\ezen\\anaconda3\\lib\\site-packages (from pefile>=2022.5.30->pyinstaller) (0.18.2)\n",
      "Building wheels for collected packages: pefile\n",
      "  Building wheel for pefile (setup.py): started\n",
      "  Building wheel for pefile (setup.py): finished with status 'done'\n",
      "  Created wheel for pefile: filename=pefile-2022.5.30-py3-none-any.whl size=69362 sha256=e8159b810f8ae7ff9b2399cee832656f2d7b44f2721708bbaf092d091f6c99d6\n",
      "  Stored in directory: c:\\users\\ezen\\appdata\\local\\pip\\cache\\wheels\\f1\\fe\\01\\5536332fc49e010786c52886ac14f72073dd65fed3c3d8945c\n",
      "Successfully built pefile\n",
      "Installing collected packages: altgraph, pyinstaller-hooks-contrib, pefile, pyinstaller\n",
      "Successfully installed altgraph-0.17.3 pefile-2022.5.30 pyinstaller-5.7.0 pyinstaller-hooks-contrib-2022.14\n",
      "Note: you may need to restart the kernel to use updated packages.\n"
     ]
    }
   ],
   "source": [
    "pip install pyinstaller"
   ]
  },
  {
   "cell_type": "code",
   "execution_count": null,
   "id": "3e7cdc1d",
   "metadata": {},
   "outputs": [],
   "source": []
  }
 ],
 "metadata": {
  "kernelspec": {
   "display_name": "Python 3 (ipykernel)",
   "language": "python",
   "name": "python3"
  },
  "language_info": {
   "codemirror_mode": {
    "name": "ipython",
    "version": 3
   },
   "file_extension": ".py",
   "mimetype": "text/x-python",
   "name": "python",
   "nbconvert_exporter": "python",
   "pygments_lexer": "ipython3",
   "version": "3.9.13"
  }
 },
 "nbformat": 4,
 "nbformat_minor": 5
}
