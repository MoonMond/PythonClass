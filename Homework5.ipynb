{
  "nbformat": 4,
  "nbformat_minor": 0,
  "metadata": {
    "colab": {
      "provenance": [],
      "authorship_tag": "ABX9TyM/9ND0rvMmdM9u/lMjSq+9",
      "include_colab_link": true
    },
    "kernelspec": {
      "name": "python3",
      "display_name": "Python 3"
    },
    "language_info": {
      "name": "python"
    }
  },
  "cells": [
    {
      "cell_type": "markdown",
      "metadata": {
        "id": "view-in-github",
        "colab_type": "text"
      },
      "source": [
        "<a href=\"https://colab.research.google.com/github/MoonMond/PythonClass/blob/main/Homework5.ipynb\" target=\"_parent\"><img src=\"https://colab.research.google.com/assets/colab-badge.svg\" alt=\"Open In Colab\"/></a>"
      ]
    },
    {
      "cell_type": "code",
      "execution_count": null,
      "metadata": {
        "colab": {
          "base_uri": "https://localhost:8080/"
        },
        "id": "72wdM49qIn_W",
        "outputId": "dbc9697a-555b-4416-b037-cd34cf2a5e9f"
      },
      "outputs": [
        {
          "output_type": "stream",
          "name": "stdout",
          "text": [
            "First Name 입력 : 경록\n",
            "Hello [ 경록 ]\n"
          ]
        }
      ],
      "source": [
        "# 001\n",
        "\n",
        "a = input(\"First Name 입력 : \")\n",
        "\n",
        "print(\"Hello\", \"[\", a, \"]\")"
      ]
    },
    {
      "cell_type": "code",
      "source": [
        "# 002\n",
        "a = input(\"First Name 입력 : \")\n",
        "b = input(\"Surname 입력 : \")\n",
        "\n",
        "print(\"Hello\", \"[\", a, \"]\", \"[\",b,\"]\")"
      ],
      "metadata": {
        "colab": {
          "base_uri": "https://localhost:8080/"
        },
        "id": "nZMW_JcsJXyN",
        "outputId": "650f42d2-13d2-4448-b8b8-210888b6cda2"
      },
      "execution_count": null,
      "outputs": [
        {
          "output_type": "stream",
          "name": "stdout",
          "text": [
            "First Name 입력 : 경록\n",
            "Surname 입력 : 문\n",
            "Hello [ 경록 ] [ 문 ]\n"
          ]
        }
      ]
    },
    {
      "cell_type": "code",
      "source": [
        "# 003\n",
        "\n",
        "print('\"What do you call a bear with no teeth?\"\\n'+'\"A Gummy bear!!\"')"
      ],
      "metadata": {
        "colab": {
          "base_uri": "https://localhost:8080/"
        },
        "id": "rjuU8y78J1ol",
        "outputId": "b8a15216-d76b-4547-95ef-0dfcb8c89b6c"
      },
      "execution_count": null,
      "outputs": [
        {
          "output_type": "stream",
          "name": "stdout",
          "text": [
            "\"What do you call a bear with no teeth?\"\n",
            "\"A Gummy bear!!\"\n"
          ]
        }
      ]
    },
    {
      "cell_type": "code",
      "source": [
        "# 004\n",
        "a = int(input(\"첫번째 숫자 입력 : \"))\n",
        "b = int(input(\"두번째 숫자 입력 : \"))\n",
        "\n",
        "print(\"The total is\",a+b)"
      ],
      "metadata": {
        "colab": {
          "base_uri": "https://localhost:8080/"
        },
        "id": "vv3-9Rd0KWt8",
        "outputId": "d7c28f81-1836-46cc-a49e-d3169619eb55"
      },
      "execution_count": null,
      "outputs": [
        {
          "output_type": "stream",
          "name": "stdout",
          "text": [
            "첫번째 숫자 입력 : 1\n",
            "두번째 숫자 입력 : 4\n",
            "The total is 5\n"
          ]
        }
      ]
    },
    {
      "cell_type": "code",
      "source": [
        "# 005\n",
        "a = int(input(\"첫번째 숫자 입력 : \"))\n",
        "b = int(input(\"두번째 숫자 입력 : \"))\n",
        "c = int(input(\"세번째 숫자 입력 : \"))\n",
        "\n",
        "print(\"The answer is\",(a+b)*c)"
      ],
      "metadata": {
        "colab": {
          "base_uri": "https://localhost:8080/"
        },
        "id": "BYBkc7K_K8_m",
        "outputId": "93700b99-325a-4171-8676-f9e66a02e504"
      },
      "execution_count": null,
      "outputs": [
        {
          "output_type": "stream",
          "name": "stdout",
          "text": [
            "첫번째 숫자 입력 : 1\n",
            "두번째 숫자 입력 : 4\n",
            "세번째 숫자 입력 : 6\n",
            "The answer is 30\n"
          ]
        }
      ]
    },
    {
      "cell_type": "code",
      "source": [
        "# 006\n",
        "\n",
        "a = int(input(\"How many slices of pizza you started? : \"))\n",
        "b = int(input(\"How many slices of pizza did you eat? : \"))\n",
        "\n",
        "print(\"There are\", a-b, \"pieces of pizza left\")"
      ],
      "metadata": {
        "colab": {
          "base_uri": "https://localhost:8080/"
        },
        "id": "42lQkP9eLY4u",
        "outputId": "8715d512-d428-434c-9b2e-5b905ca9723d"
      },
      "execution_count": null,
      "outputs": [
        {
          "output_type": "stream",
          "name": "stdout",
          "text": [
            "How many slices of pizza you started? : 8\n",
            "How many slices of pizza did you eat? : 4\n",
            "There are 4 pieces of pizza left\n"
          ]
        }
      ]
    },
    {
      "cell_type": "code",
      "source": [
        "# 007\n",
        "a = input(\"이름 입력 : \")\n",
        "b = int(input(\"나이 입력 : \")) +1\n",
        "print(\"[\"+a+\"]\",\"next birthday you will be\",b)"
      ],
      "metadata": {
        "colab": {
          "base_uri": "https://localhost:8080/"
        },
        "id": "CVpbU4OFMEy0",
        "outputId": "450455a5-d589-42b6-a94b-c3375efe6b3e"
      },
      "execution_count": null,
      "outputs": [
        {
          "output_type": "stream",
          "name": "stdout",
          "text": [
            "이름 입력 : 문경록\n",
            "나이 입력 : 27\n",
            "[문경록] next birthday you will be 28\n"
          ]
        }
      ]
    },
    {
      "cell_type": "code",
      "source": [
        "# 008\n",
        "a = int(input(\"총 지불 금액 : \"))\n",
        "b = int(input(\"총 인원 : \"))\n",
        "print(\"각각 지불할 금액은\",a/b,\"입니다.\")"
      ],
      "metadata": {
        "colab": {
          "base_uri": "https://localhost:8080/"
        },
        "id": "-jIEZwWGMqH0",
        "outputId": "7dd785ef-9a86-457c-b71a-38cf0f345f17"
      },
      "execution_count": null,
      "outputs": [
        {
          "output_type": "stream",
          "name": "stdout",
          "text": [
            "총 지불 금액 : 50000\n",
            "총 인원 : 5\n",
            "각각 지불할 금액은 10000.0 입니다.\n"
          ]
        }
      ]
    },
    {
      "cell_type": "code",
      "source": [
        "# 009\n",
        "a = int(input(\"일 수 : \"))\n",
        "print(a, \"일은 [시간]으로\", a*24, \"시간, [분]으로\",a*24*60,\"분, [초]로\",a*24*60*60 ,\"초 입니다.\")"
      ],
      "metadata": {
        "colab": {
          "base_uri": "https://localhost:8080/"
        },
        "id": "ybaOGFVtNHCL",
        "outputId": "6f6d3862-2905-456e-8adc-24e9bcddd67e"
      },
      "execution_count": null,
      "outputs": [
        {
          "output_type": "stream",
          "name": "stdout",
          "text": [
            "일 수 : 1\n",
            "1 일은 [시간]으로 24 시간, [분]으로 1440 분, [초]로 86400 초 입니다.\n"
          ]
        }
      ]
    },
    {
      "cell_type": "code",
      "source": [
        "# 010\n",
        "a = int(input(\"무게 : \"))\n",
        "print(a*2204,\"파운드\")"
      ],
      "metadata": {
        "colab": {
          "base_uri": "https://localhost:8080/"
        },
        "id": "cDkuBogYOJPM",
        "outputId": "a22e03f8-4640-4332-d7cc-a9edad6005d9"
      },
      "execution_count": null,
      "outputs": [
        {
          "output_type": "stream",
          "name": "stdout",
          "text": [
            "무게 : 58\n",
            "127832 파운드\n"
          ]
        }
      ]
    },
    {
      "cell_type": "code",
      "source": [
        "# 011\n",
        "a = int(input(\"100보다 큰 수 입력 : \"))\n",
        "b = int(input(\"10보다 작은 수 입력 : \"))\n",
        "\n",
        "print(b, \"goes into\", a, a/b, \"times\")"
      ],
      "metadata": {
        "colab": {
          "base_uri": "https://localhost:8080/"
        },
        "id": "_bqr438dPY9T",
        "outputId": "b02add55-eda0-4dcc-bb73-53ea4ba69bf9"
      },
      "execution_count": null,
      "outputs": [
        {
          "output_type": "stream",
          "name": "stdout",
          "text": [
            "100보다 큰 수 입력 : 105\n",
            "10보다 작은 수 입력 : 5\n",
            "5 goes into 105 21.0 times\n"
          ]
        }
      ]
    }
  ]
}