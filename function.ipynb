{
 "cells": [
  {
   "cell_type": "markdown",
   "metadata": {},
   "source": [
    "# 함수 Fuction\n",
    "\n",
    "수학에서의 함수와 개념이 거의 같다. 2x + 1 = y\n",
    "\n",
    "믹서기를 생각해보자. 바나나 → 바나나주스, 딸기 → 딸기주스\n",
    "\n",
    "프로그래밍을 하다보면 반복하여 비슷한 작업을 할 경우가 무지무지 많다.  이럴때 함수를 사용하게 되면 불필요한 반복적은 코드의 사용을 줄일수 있다. \n",
    "\n",
    "한번 작성한 코드를 다음에 나중에 다른 프로그램을 작성할때 그대로 가져다가 사용할수 있기 때문에 효율성을 높이는 방법으로 함수를 사용하여 다른 프로젝트에서도 재사용할수 있다.\n",
    "\n",
    "함수의 기본형\n",
    "\n",
    "**def 함수이름(변수):**\n",
    "\n",
    "**수행 구문**"
   ]
  },
  {
   "cell_type": "code",
   "execution_count": 1,
   "metadata": {},
   "outputs": [
    {
     "name": "stdout",
     "output_type": "stream",
     "text": [
      "아아 임\n"
     ]
    }
   ],
   "source": [
    "def a(name):\n",
    "    print(name,\"임\")\n",
    "\n",
    "a(\"아아\")"
   ]
  },
  {
   "cell_type": "code",
   "execution_count": 2,
   "metadata": {},
   "outputs": [
    {
     "name": "stdout",
     "output_type": "stream",
     "text": [
      "4\n"
     ]
    }
   ],
   "source": [
    "def add(a,b):\n",
    "    return a+b\n",
    "\n",
    "print(add(1,3))"
   ]
  },
  {
   "cell_type": "code",
   "execution_count": 3,
   "metadata": {},
   "outputs": [
    {
     "data": {
      "text/plain": [
       "'aa'"
      ]
     },
     "execution_count": 3,
     "metadata": {},
     "output_type": "execute_result"
    }
   ],
   "source": [
    "def a():\n",
    "    return \"aa\"\n",
    "\n",
    "a()"
   ]
  },
  {
   "cell_type": "code",
   "execution_count": 7,
   "metadata": {},
   "outputs": [
    {
     "name": "stdout",
     "output_type": "stream",
     "text": [
      "3\n"
     ]
    }
   ],
   "source": [
    "def sumfunction(a,b):\n",
    "    return a+b\n",
    "\n",
    "print(sumfunction(1,2))"
   ]
  },
  {
   "cell_type": "code",
   "execution_count": 24,
   "metadata": {},
   "outputs": [
    {
     "name": "stdout",
     "output_type": "stream",
     "text": [
      "12\n"
     ]
    }
   ],
   "source": [
    "def f(*a):\n",
    "    s=0\n",
    "    for i in a:\n",
    "        s=s+i\n",
    "    return s\n",
    "\n",
    "print(f(3,4,5))"
   ]
  },
  {
   "cell_type": "code",
   "execution_count": 16,
   "metadata": {},
   "outputs": [
    {
     "name": "stdout",
     "output_type": "stream",
     "text": [
      "(3, 2)\n"
     ]
    }
   ],
   "source": [
    "def p(a,b):\n",
    "    return a+b, a*b\n",
    "\n",
    "print(p(1,2))"
   ]
  },
  {
   "cell_type": "code",
   "execution_count": 17,
   "metadata": {},
   "outputs": [
    {
     "name": "stdout",
     "output_type": "stream",
     "text": [
      "3\n"
     ]
    }
   ],
   "source": [
    "def p(a,b):\n",
    "    return a+b\n",
    "    return a*b\n",
    "\n",
    "print(p(1,2))"
   ]
  },
  {
   "cell_type": "code",
   "execution_count": 35,
   "metadata": {},
   "outputs": [
    {
     "name": "stdout",
     "output_type": "stream",
     "text": [
      "hi aa\n",
      "None\n"
     ]
    }
   ],
   "source": [
    "def say(name):\n",
    "    if name == \"bb\":\n",
    "        return\n",
    "    print(\"hi\",name)\n",
    "\n",
    "\n",
    "d=say(\"aa\")\n",
    "print(d)"
   ]
  },
  {
   "cell_type": "code",
   "execution_count": 56,
   "metadata": {},
   "outputs": [
    {
     "name": "stdout",
     "output_type": "stream",
     "text": [
      "내 이름은 머머 나이는 27 이며 남성입니다\n"
     ]
    }
   ],
   "source": [
    "def sayname(name,age,man=True):\n",
    "    print(\"내 이름은\",name,\"나이는\",age,\"이며\", end=' ')\n",
    "    if man:\n",
    "        print(\"남성입니다\")\n",
    "    else:\n",
    "        print(\"여성입니다\")\n",
    "\n",
    "sayname(\"머머\",27)"
   ]
  },
  {
   "cell_type": "code",
   "execution_count": 57,
   "metadata": {},
   "outputs": [
    {
     "name": "stdout",
     "output_type": "stream",
     "text": [
      "저는 홍길동이고 20살입니다\n"
     ]
    }
   ],
   "source": [
    "name=\"홍길동\"\n",
    "age=20\n",
    "aa=f'저는 {name}이고 {age}살입니다'\n",
    "print(aa)"
   ]
  },
  {
   "cell_type": "code",
   "execution_count": 58,
   "metadata": {},
   "outputs": [
    {
     "name": "stdout",
     "output_type": "stream",
     "text": [
      "1\n"
     ]
    }
   ],
   "source": [
    "a=1\n",
    "def variableexam(a):\n",
    "    a+=1            # 함수 안에서의 변수값은 함수 밖에는 영향을 미치지 않는다.\n",
    "\n",
    "variableexam(a)\n",
    "print(a)"
   ]
  },
  {
   "cell_type": "code",
   "execution_count": 60,
   "metadata": {},
   "outputs": [
    {
     "name": "stdout",
     "output_type": "stream",
     "text": [
      "2\n",
      "1\n"
     ]
    }
   ],
   "source": [
    "a=1\n",
    "def variableexam(a):\n",
    "    a+=1            # 함수 안에서의 변수값은 함수 밖에는 영향을 미치지 않는다.\n",
    "    return a\n",
    "\n",
    "print(variableexam(a))\n",
    "print(a)"
   ]
  },
  {
   "cell_type": "code",
   "execution_count": 64,
   "metadata": {},
   "outputs": [
    {
     "name": "stdout",
     "output_type": "stream",
     "text": [
      "2\n",
      "2\n"
     ]
    }
   ],
   "source": [
    "a=1\n",
    "def variableexam():\n",
    "    global a\n",
    "    a+=1          # 함수 안에서의 변수값은 함수 밖에는 영향을 미치지 않는다.\n",
    "    return a\n",
    "\n",
    "print(variableexam())\n",
    "print(a)"
   ]
  },
  {
   "cell_type": "code",
   "execution_count": 68,
   "metadata": {},
   "outputs": [
    {
     "name": "stdout",
     "output_type": "stream",
     "text": [
      "2\n",
      "1\n"
     ]
    }
   ],
   "source": [
    "a=1\n",
    "def variableexam(b):\n",
    "    b+=1          # 함수 안에서의 변수값은 함수 밖에는 영향을 미치지 않는다.\n",
    "    return b\n",
    "\n",
    "print(variableexam(1))\n",
    "print(a)"
   ]
  },
  {
   "cell_type": "code",
   "execution_count": 71,
   "metadata": {},
   "outputs": [
    {
     "name": "stdout",
     "output_type": "stream",
     "text": [
      "isodd(2)는 짝수입니다.\n",
      "홀수입니다.\n"
     ]
    }
   ],
   "source": [
    "def is_odd(a):\n",
    "    if a%2==0:\n",
    "        print(f'isodd({a})는 짝수입니다.')\n",
    "    else:\n",
    "        print(\"홀수입니다.\")\n",
    "is_odd(2)\n",
    "is_odd(3)"
   ]
  },
  {
   "cell_type": "code",
   "execution_count": 86,
   "metadata": {},
   "outputs": [
    {
     "name": "stdout",
     "output_type": "stream",
     "text": [
      "2.0\n",
      "3.0\n",
      "5.5\n"
     ]
    }
   ],
   "source": [
    "def avgnum(*g):\n",
    "    print(sum(g)/len(g))\n",
    "\n",
    "avgnum(1,2,3)\n",
    "avgnum(1,2,3,4,5)\n",
    "avgnum(1,2,3,4,5,6,7,8,9,10)"
   ]
  },
  {
   "cell_type": "markdown",
   "metadata": {},
   "source": [
    "파일 읽고 / 쓰기"
   ]
  },
  {
   "cell_type": "code",
   "execution_count": 95,
   "metadata": {},
   "outputs": [],
   "source": [
    "# 파일을 새로 만들어서 내용 넣기\n",
    "f = open(\"NewFile.txt\",'w') # 새 파일 만들어서 열고\n",
    "for i in range(1,6): # 파일에 여러 데이터 넣기\n",
    "    f.write(f'{i}')\n",
    "f.close()"
   ]
  },
  {
   "cell_type": "code",
   "execution_count": null,
   "metadata": {},
   "outputs": [],
   "source": [
    "# 파일 읽어오기\n",
    "\n",
    "f = open(\"newfile2.txt\",\"r\")\n",
    "\n",
    "while True:\n",
    "    line = f.readline()\n",
    "    if not line: break\n",
    "    print(line)\n",
    "\n",
    "f.close()"
   ]
  },
  {
   "cell_type": "markdown",
   "metadata": {},
   "source": [
    "# 객체지향프로그래밍 OOP\n",
    "\n",
    "object oriented programming  \n",
    "\n",
    "클래스 class \n",
    "\n",
    "클래스로 객체를 생성한다. \n",
    "\n",
    "C언어는 객체지향 언어가 아니어도 충분히 오랜시간동안 사랑을 받아온 언어이다. 따라서 객체지향이 프로그래밍에서의 필수 조건은 아니다. 즉 반드시 필요한 개념은 아니다. \n",
    "\n",
    "하지만…..객체지향을 사용하면 상당히 얻을 수 있는 유익이 크다."
   ]
  },
  {
   "cell_type": "code",
   "execution_count": 96,
   "metadata": {},
   "outputs": [
    {
     "name": "stdout",
     "output_type": "stream",
     "text": [
      "3\n",
      "5\n",
      "1\n",
      "3\n"
     ]
    }
   ],
   "source": [
    "result1 = 0\n",
    "result2 = 0\n",
    "\n",
    "def add1(num):\n",
    "    global result1\n",
    "    result1 += num\n",
    "    return result1\n",
    "\n",
    "def add2(num):\n",
    "    global result2\n",
    "    result2 += num\n",
    "    return result2\n",
    "\n",
    "print(add1(3))\n",
    "print(add1(2))\n",
    "print(add2(1))\n",
    "print(add2(2))"
   ]
  },
  {
   "cell_type": "markdown",
   "metadata": {},
   "source": [
    "위와 같은 방식으로 계산기가 필요할때 마다 새로운 코드로 생성을 하게 된다면 상당한 코드의 중복 사용은 물론 유지보수면에서도 불편함이 배가된다. "
   ]
  },
  {
   "cell_type": "code",
   "execution_count": 97,
   "metadata": {},
   "outputs": [
    {
     "name": "stdout",
     "output_type": "stream",
     "text": [
      "3\n",
      "5\n",
      "\n",
      "1\n",
      "3\n",
      "\n",
      "1\n",
      "3\n",
      "6\n"
     ]
    }
   ],
   "source": [
    "class Cal:\n",
    "\n",
    "    def __init__(self):  # 생성자\n",
    "        self.result = 0\n",
    "\n",
    "    def add(self,num):   # 매서드 (함수가 아닌 매서드)\n",
    "        self.result += num\n",
    "        return self.result\n",
    "\n",
    "cal1 = Cal()\n",
    "cal2 = Cal()\n",
    "cal3 = Cal()\n",
    "\n",
    "print(cal1.add(3))\n",
    "print(cal1.add(2))\n",
    "print()\n",
    "print(cal2.add(1))\n",
    "print(cal2.add(2))\n",
    "print()\n",
    "print(cal3.add(1))\n",
    "print(cal3.add(2))\n",
    "print(cal3.add(3))"
   ]
  },
  {
   "cell_type": "code",
   "execution_count": 106,
   "metadata": {},
   "outputs": [
    {
     "name": "stdout",
     "output_type": "stream",
     "text": [
      "3\n",
      "2\n",
      "7\n",
      "12\n"
     ]
    }
   ],
   "source": [
    "class Cal:\n",
    "    def add(self, first, second):\n",
    "        result = first+second\n",
    "        return result\n",
    "    def mul(self, first, second):\n",
    "        result = first*second\n",
    "        return result\n",
    "cal1=Cal()\n",
    "print(cal1.add(1,2))\n",
    "print(cal1.mul(1,2))\n",
    "cal2=Cal()\n",
    "print(cal2.add(3,4))\n",
    "print(cal2.mul(3,4))"
   ]
  },
  {
   "cell_type": "code",
   "execution_count": 104,
   "metadata": {},
   "outputs": [
    {
     "name": "stdout",
     "output_type": "stream",
     "text": [
      "1\n",
      "2\n",
      "3\n",
      "4\n"
     ]
    }
   ],
   "source": [
    "class Cal:\n",
    "    def setdata(self,first,second):\n",
    "        self.first=first\n",
    "        self.second=second\n",
    "\n",
    "cal1=Cal()\n",
    "cal1.setdata(1,2)\n",
    "print(cal1.first)\n",
    "print(cal1.second)\n",
    "\n",
    "cal2=Cal()\n",
    "cal2.setdata(3,4)\n",
    "print(cal2.first)\n",
    "print(cal2.second)"
   ]
  },
  {
   "cell_type": "markdown",
   "metadata": {},
   "source": [
    "# 1 함수(function)가 클래스 안에서 구현될때는 매서드(method)라고 부른다.\n",
    "\n",
    "# 2 매서드의 매개변수 자리의 맨 앞에 self는 그 매서드를 호출한 객체의 이름이 온다."
   ]
  },
  {
   "cell_type": "code",
   "execution_count": 105,
   "metadata": {},
   "outputs": [
    {
     "name": "stdout",
     "output_type": "stream",
     "text": [
      "3\n",
      "2\n",
      "7\n",
      "12\n"
     ]
    }
   ],
   "source": [
    "class Cal:\n",
    "    def setdata(self, first, second):\n",
    "        self.first = first\n",
    "        self.second = second\n",
    "\n",
    "    def add(self):\n",
    "        result = self.first + self.second\n",
    "        return result\n",
    "\n",
    "    def mul(self):\n",
    "        result = self.first * self.second\n",
    "        return result\n",
    "\n",
    "cal1 = Cal() \n",
    "cal1.setdata(1,2)\n",
    "print(cal1.add())\n",
    "print(cal1.mul())\n",
    "cal2 = Cal() \n",
    "cal2.setdata(3,4)\n",
    "print(cal2.add())\n",
    "print(cal2.mul())"
   ]
  },
  {
   "cell_type": "markdown",
   "metadata": {},
   "source": [
    "생성자는 클래스로 객체를 생성할때 자동으로 호출되는 매서드로 파이썬에서는 _ _ init _ _ 으로 생성자를 만든다. "
   ]
  },
  {
   "cell_type": "code",
   "execution_count": 107,
   "metadata": {},
   "outputs": [
    {
     "name": "stdout",
     "output_type": "stream",
     "text": [
      "3\n",
      "2\n",
      "7\n",
      "12\n"
     ]
    }
   ],
   "source": [
    "# 생성자 Constructor\n",
    "class Cal:\n",
    "\n",
    "    def __init__(self,first,second):\n",
    "        self.first = first\n",
    "        self.second = second\n",
    "        \n",
    "    #def setdata(self, first, second):\n",
    "    #  self.first = first\n",
    "    #  self.second = second\n",
    "\n",
    "    def add(self):\n",
    "        result = self.first + self.second\n",
    "        return result\n",
    "\n",
    "    def mul(self):\n",
    "        result = self.first * self.second\n",
    "        return result\n",
    "\n",
    "cal1 = Cal(1,2) \n",
    "# cal1.setdata(1,2)\n",
    "print(cal1.add())\n",
    "print(cal1.mul())\n",
    "cal2 = Cal(3,4) \n",
    "# cal2.setdata(3,4)\n",
    "print(cal2.add())\n",
    "print(cal2.mul())"
   ]
  },
  {
   "cell_type": "markdown",
   "metadata": {},
   "source": [
    "상속 inheritance\n",
    "\n",
    "상속은 물려받는다는 뜻으로 현실세계의 상속과 비슷한 개념이다. 상속은 객체지향 프로그래밍에서 아주 중요한 요소이다. 특히 파이썬은 여러 클래스에서 한번에 상속(다중상속)을 받을수 있는 특징이 있다. \n",
    "\n",
    "일반적으로 상속을 받은 자식 클래스가 부모 클래스보다 많은 기능을 구현하게 된다. (부모기능+본인기능)"
   ]
  },
  {
   "cell_type": "code",
   "execution_count": 113,
   "metadata": {},
   "outputs": [
    {
     "data": {
      "text/plain": [
       "3"
      ]
     },
     "execution_count": 113,
     "metadata": {},
     "output_type": "execute_result"
    }
   ],
   "source": [
    "class Cal:\n",
    "\n",
    "    def __init__(self,first,second):\n",
    "        self.first = first\n",
    "        self.second = second\n",
    "        \n",
    "    #def setdata(self, first, second):\n",
    "    #  self.first = first\n",
    "    #  self.second = second\n",
    "\n",
    "    def add(self):\n",
    "        result = self.first + self.second\n",
    "        return result\n",
    "\n",
    "    def mul(self):\n",
    "        result = self.first * self.second\n",
    "        return result\n",
    "# 상속 : 파이썬은 다중상속 가능, 자바는 단일상속만 가능\n",
    "class MoreCal(Cal):\n",
    "    def sub(self):\n",
    "        result=self.first-self.second\n",
    "        return result\n",
    "\n",
    "\n",
    "\n",
    "cal3=MoreCal(3,2)\n",
    "cal3.add()\n",
    "cal3.sub()\n",
    "\n",
    "cal4 = Cal(2,1)\n",
    "cal4.add()\n",
    "cal4.sub()"
   ]
  },
  {
   "cell_type": "markdown",
   "metadata": {},
   "source": [
    "매서드 오버라이딩 method overriding\n",
    "\n",
    "부모가 가진 매서드명과 동일한 이름으로 자식 클래스에 구현을 하게되면 부모의 매서드가 실행되지 않고 자식에 구현된 매서드가 동작을 하게 된다. \n",
    "\n",
    "보통 부모 매서드의 기능을 보완거나 확장하는 용도로 많이 사용 된다."
   ]
  },
  {
   "cell_type": "code",
   "execution_count": 116,
   "metadata": {},
   "outputs": [
    {
     "data": {
      "text/plain": [
       "'계산불가합니다.'"
      ]
     },
     "execution_count": 116,
     "metadata": {},
     "output_type": "execute_result"
    }
   ],
   "source": [
    "# method overriding\n",
    "class Cal:\n",
    "\n",
    "    def __init__(self,first,second):\n",
    "        self.first = first\n",
    "        self.second = second\n",
    "        \n",
    "    #def setdata(self, first, second):\n",
    "    #  self.first = first\n",
    "    #  self.second = second\n",
    "\n",
    "    def add(self):\n",
    "        result = self.first + self.second\n",
    "        return result\n",
    "\n",
    "    def mul(self):\n",
    "        result = self.first * self.second\n",
    "        return result\n",
    "\n",
    "    def div(self):\n",
    "        result = self.first / self.second\n",
    "        return result\n",
    "\n",
    "class MoreCal(Cal):\n",
    "    def sub(self):\n",
    "        result=self.first-self.second\n",
    "        return result\n",
    "\n",
    "    def div(self):\n",
    "        if self.second==0:\n",
    "            return \"계산불가합니다.\"\n",
    "        else:\n",
    "            result = self.first / self.second\n",
    "            return result\n",
    "\n",
    "\n",
    "\n",
    "cal3=MoreCal(3,2)\n",
    "cal3.add()\n",
    "cal3.sub()\n",
    "\n",
    "cal4 = Cal(2,1)\n",
    "cal4.add()\n",
    "\n",
    "cal5 = MoreCal(4,0) # 이걸 개선시키자 : 매서드 오버라이딩\n",
    "cal5.div()"
   ]
  },
  {
   "cell_type": "code",
   "execution_count": 118,
   "metadata": {},
   "outputs": [
    {
     "ename": "TypeError",
     "evalue": "Cal.add() takes 1 positional argument but 3 were given",
     "output_type": "error",
     "traceback": [
      "\u001b[1;31m---------------------------------------------------------------------------\u001b[0m",
      "\u001b[1;31mTypeError\u001b[0m                                 Traceback (most recent call last)",
      "Cell \u001b[1;32mIn [118], line 13\u001b[0m\n\u001b[0;32m     10\u001b[0m         \u001b[39mreturn\u001b[39;00m a\u001b[39m+\u001b[39mb\u001b[39m+\u001b[39mc\u001b[39m+\u001b[39md\n\u001b[0;32m     12\u001b[0m cal\u001b[39m=\u001b[39mCal\n\u001b[1;32m---> 13\u001b[0m \u001b[39mprint\u001b[39m(cal1\u001b[39m.\u001b[39;49madd(\u001b[39m1\u001b[39;49m,\u001b[39m2\u001b[39;49m))\n\u001b[0;32m     14\u001b[0m \u001b[39mprint\u001b[39m(cal1\u001b[39m.\u001b[39madd(\u001b[39m1\u001b[39m,\u001b[39m2\u001b[39m,\u001b[39m3\u001b[39m))\n\u001b[0;32m     15\u001b[0m \u001b[39mprint\u001b[39m(cal1\u001b[39m.\u001b[39madd(\u001b[39m1\u001b[39m,\u001b[39m2\u001b[39m,\u001b[39m3\u001b[39m,\u001b[39m4\u001b[39m))\n",
      "\u001b[1;31mTypeError\u001b[0m: Cal.add() takes 1 positional argument but 3 were given"
     ]
    }
   ],
   "source": [
    "# method overloading\n",
    "# 자바에서는 가능하지만 파이썬에서는 불가능\n",
    "\n",
    "class Cal():\n",
    "    def add(a,b):\n",
    "        return a+b\n",
    "    def add(a,b,c):\n",
    "        return a+b+c\n",
    "    def add(a,b,c,d):\n",
    "        return a+b+c+d\n",
    "\n",
    "cal=Cal()\n",
    "print(cal1.add(1,2))\n",
    "print(cal1.add(1,2,3))\n",
    "print(cal1.add(1,2,3,4))"
   ]
  },
  {
   "cell_type": "markdown",
   "metadata": {},
   "source": [
    "# 예외 처리 exception\n",
    "\n",
    "오류….에러…가 발생했을 때 적절하게 상황에 따라 처리해 주는 것을 예외 처리 라고 한다.\n",
    "\n",
    "try:\n",
    "\n",
    "에러가 발생할수도 있을것 같은 구문\n",
    "\n",
    "except:\n",
    "\n",
    "에러가 발생했을때 적용되는 구문"
   ]
  },
  {
   "cell_type": "code",
   "execution_count": 119,
   "metadata": {},
   "outputs": [
    {
     "name": "stdout",
     "output_type": "stream",
     "text": [
      "에러가 발생했습니다.\n"
     ]
    }
   ],
   "source": [
    "try:\n",
    "    4/0\n",
    "except:\n",
    "    print(\"에러가 발생했습니다.\")\n",
    "finally: # 에러발생유무와 상관없이 항상 마지막에 실행\n",
    "    print(\"프로그램을 종료합니다.\")\n"
   ]
  },
  {
   "cell_type": "markdown",
   "metadata": {},
   "source": [
    "*# 여러 예외 처리*\n",
    "\n",
    "**try:**\n",
    "\n",
    "**에러가 발생할수도 있을것 같은 구문**\n",
    "\n",
    "**except:**\n",
    "\n",
    "**에러1 발생했을때 적용되는 구문**\n",
    "\n",
    "**except:**\n",
    "\n",
    "**에러2 발생했을때 적용되는 구문**"
   ]
  },
  {
   "cell_type": "code",
   "execution_count": 132,
   "metadata": {},
   "outputs": [
    {
     "name": "stdout",
     "output_type": "stream",
     "text": [
      "list index out of range\n"
     ]
    }
   ],
   "source": [
    "# 여러 에러 처리\n",
    "\n",
    "try:\n",
    "    a=[1,2]\n",
    "    print(a[4])\n",
    "    print(4/0)\n",
    "except IndexError as e:\n",
    "    print(e)\n",
    "except ZeroDivisionError as e:\n",
    "    print(e)"
   ]
  },
  {
   "cell_type": "code",
   "execution_count": 134,
   "metadata": {},
   "outputs": [
    {
     "name": "stdout",
     "output_type": "stream",
     "text": [
      "2\n",
      "division by zero\n"
     ]
    }
   ],
   "source": [
    "try:\n",
    "    a=[1,2]\n",
    "    print(a[1])\n",
    "    print(4/0)\n",
    "except (IndexError,ZeroDivisionError) as e:\n",
    "    print(e)"
   ]
  },
  {
   "cell_type": "code",
   "execution_count": 127,
   "metadata": {},
   "outputs": [
    {
     "ename": "IndexError",
     "evalue": "list index out of range",
     "output_type": "error",
     "traceback": [
      "\u001b[1;31m---------------------------------------------------------------------------\u001b[0m",
      "\u001b[1;31mIndexError\u001b[0m                                Traceback (most recent call last)",
      "Cell \u001b[1;32mIn [127], line 2\u001b[0m\n\u001b[0;32m      1\u001b[0m a\u001b[39m=\u001b[39m[\u001b[39m1\u001b[39m,\u001b[39m2\u001b[39m]\n\u001b[1;32m----> 2\u001b[0m \u001b[39mprint\u001b[39m(a[\u001b[39m4\u001b[39;49m])\n",
      "\u001b[1;31mIndexError\u001b[0m: list index out of range"
     ]
    }
   ],
   "source": [
    "a=[1,2]\n",
    "print(a[4])"
   ]
  },
  {
   "cell_type": "code",
   "execution_count": 128,
   "metadata": {},
   "outputs": [
    {
     "ename": "ZeroDivisionError",
     "evalue": "division by zero",
     "output_type": "error",
     "traceback": [
      "\u001b[1;31m---------------------------------------------------------------------------\u001b[0m",
      "\u001b[1;31mZeroDivisionError\u001b[0m                         Traceback (most recent call last)",
      "Cell \u001b[1;32mIn [128], line 1\u001b[0m\n\u001b[1;32m----> 1\u001b[0m \u001b[39mprint\u001b[39m(\u001b[39m4\u001b[39;49m\u001b[39m/\u001b[39;49m\u001b[39m0\u001b[39;49m)\n",
      "\u001b[1;31mZeroDivisionError\u001b[0m: division by zero"
     ]
    }
   ],
   "source": [
    "print(4/0)"
   ]
  },
  {
   "cell_type": "markdown",
   "metadata": {},
   "source": [
    "try ~ except\n",
    "\n",
    "try ~ except ~ finally\n",
    "\n",
    "try ~ except ~ else ~ finally"
   ]
  },
  {
   "cell_type": "code",
   "execution_count": 139,
   "metadata": {},
   "outputs": [
    {
     "name": "stdout",
     "output_type": "stream",
     "text": [
      "No problem\n",
      "program end\n"
     ]
    }
   ],
   "source": [
    "try:\n",
    "    4/1\n",
    "except: # 문제가 있을 때만 실행되는 구문\n",
    "    print(\"exception !!!\")\n",
    "else: # 문제가 없을 때만 실행되는 구문\n",
    "    print(\"No problem\")\n",
    "finally: # 에러발생유무와 상관없이 항상 마지막에 실행\n",
    "    print(\"program end\")"
   ]
  },
  {
   "cell_type": "markdown",
   "metadata": {},
   "source": [
    "예외 회피\n",
    "예외가 발생했을 때에 무시한다."
   ]
  },
  {
   "cell_type": "code",
   "execution_count": 140,
   "metadata": {},
   "outputs": [],
   "source": [
    "try:\n",
    "    4/0\n",
    "except:\n",
    "    pass  # 에러 회피"
   ]
  },
  {
   "cell_type": "markdown",
   "metadata": {},
   "source": [
    "예외를 강제로 발생시키기"
   ]
  },
  {
   "cell_type": "code",
   "execution_count": 144,
   "metadata": {},
   "outputs": [
    {
     "ename": "NotImplementedError",
     "evalue": "",
     "output_type": "error",
     "traceback": [
      "\u001b[1;31m---------------------------------------------------------------------------\u001b[0m",
      "\u001b[1;31mNotImplementedError\u001b[0m                       Traceback (most recent call last)",
      "Cell \u001b[1;32mIn [144], line 7\u001b[0m\n\u001b[0;32m      4\u001b[0m         \u001b[39mraise\u001b[39;00m \u001b[39mNotImplementedError\u001b[39;00m\n\u001b[0;32m      6\u001b[0m bird\u001b[39m=\u001b[39mBird()\n\u001b[1;32m----> 7\u001b[0m bird\u001b[39m.\u001b[39;49mfly()\n",
      "Cell \u001b[1;32mIn [144], line 4\u001b[0m, in \u001b[0;36mBird.fly\u001b[1;34m(self)\u001b[0m\n\u001b[0;32m      3\u001b[0m \u001b[39mdef\u001b[39;00m \u001b[39mfly\u001b[39m(\u001b[39mself\u001b[39m):\n\u001b[1;32m----> 4\u001b[0m     \u001b[39mraise\u001b[39;00m \u001b[39mNotImplementedError\u001b[39;00m\n",
      "\u001b[1;31mNotImplementedError\u001b[0m: "
     ]
    }
   ],
   "source": [
    "# 예외 상황이 아님에도 불구하고 예외 상황 만들때\n",
    "class Bird:\n",
    "    def fly(self):\n",
    "        raise NotImplementedError\n",
    "\n",
    "bird=Bird()\n",
    "bird.fly()"
   ]
  },
  {
   "cell_type": "code",
   "execution_count": 145,
   "metadata": {},
   "outputs": [
    {
     "name": "stdout",
     "output_type": "stream",
     "text": [
      "3\n"
     ]
    }
   ],
   "source": [
    "# Quiz\n",
    "\n",
    "class Calculator:\n",
    "    def __init__(self):\n",
    "        self.value=0\n",
    "\n",
    "    def add(self, val):\n",
    "        self.value += val\n",
    "\n",
    "class UpgradeCalculator(Calculator):\n",
    "    def minus(self, val):\n",
    "        self.value -= val\n",
    "\n",
    "cal=UpgradeCalculator()\n",
    "cal.add(10)\n",
    "cal.minus(7)\n",
    "\n",
    "print(cal.value)"
   ]
  },
  {
   "cell_type": "code",
   "execution_count": 154,
   "metadata": {},
   "outputs": [
    {
     "name": "stdout",
     "output_type": "stream",
     "text": [
      "100\n"
     ]
    }
   ],
   "source": [
    "# Quiz\n",
    "class Calculator:\n",
    "    def __init__(self):\n",
    "        self.value=0\n",
    "\n",
    "    def add(self, val):\n",
    "        self.value += val\n",
    "\n",
    "class MaxLimitCalculator(Calculator):\n",
    "    def add(self, val):\n",
    "        self.value += val\n",
    "        if self.value>=100:\n",
    "            self.value=100\n",
    "\n",
    "        \n",
    "\n",
    "cal= MaxLimitCalculator()\n",
    "cal.add(50)\n",
    "cal.add(60)\n",
    "\n",
    "print(cal.value)\n"
   ]
  }
 ],
 "metadata": {
  "kernelspec": {
   "display_name": "Python 3.10.6 64-bit",
   "language": "python",
   "name": "python3"
  },
  "language_info": {
   "codemirror_mode": {
    "name": "ipython",
    "version": 3
   },
   "file_extension": ".py",
   "mimetype": "text/x-python",
   "name": "python",
   "nbconvert_exporter": "python",
   "pygments_lexer": "ipython3",
   "version": "3.10.6"
  },
  "orig_nbformat": 4,
  "vscode": {
   "interpreter": {
    "hash": "be042be69eb07c0fcc9843e1c670e24d23c76b83e5f6982cc023fb319a955525"
   }
  }
 },
 "nbformat": 4,
 "nbformat_minor": 2
}
