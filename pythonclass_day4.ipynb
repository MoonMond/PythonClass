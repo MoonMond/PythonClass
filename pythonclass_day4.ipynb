{
  "nbformat": 4,
  "nbformat_minor": 0,
  "metadata": {
    "colab": {
      "provenance": [],
      "authorship_tag": "ABX9TyPoKnsxLhPRsmHEC96rVJ5T",
      "include_colab_link": true
    },
    "kernelspec": {
      "name": "python3",
      "display_name": "Python 3"
    },
    "language_info": {
      "name": "python"
    }
  },
  "cells": [
    {
      "cell_type": "markdown",
      "metadata": {
        "id": "view-in-github",
        "colab_type": "text"
      },
      "source": [
        "<a href=\"https://colab.research.google.com/github/MoonMond/PythonClass/blob/main/pythonclass_day4.ipynb\" target=\"_parent\"><img src=\"https://colab.research.google.com/assets/colab-badge.svg\" alt=\"Open In Colab\"/></a>"
      ]
    },
    {
      "cell_type": "code",
      "execution_count": null,
      "metadata": {
        "colab": {
          "base_uri": "https://localhost:8080/"
        },
        "id": "gs9avpiWlZfJ",
        "outputId": "e8da413c-9c46-4e20-da1c-363dbd22510e"
      },
      "outputs": [
        {
          "output_type": "stream",
          "name": "stdout",
          "text": [
            "밑변 길이 : 3\n",
            "높이 길이 : 2\n",
            "3.0\n"
          ]
        }
      ],
      "source": [
        "a= int(input(\"밑변 길이 : \"))\n",
        "b= int(input(\"높이 길이 : \"))\n",
        "print(a*b/2)\n"
      ]
    },
    {
      "cell_type": "code",
      "source": [
        "a= int(input(\"숫자 입력 : \"))\n",
        "b= int(input(\"숫자 입력 : \"))\n",
        "if a>b:\n",
        "  print(a)\n",
        "else:\n",
        "  if b>a:\n",
        "    print(b)\n",
        "  else:\n",
        "    print(\"두 숫자가 같음\")\n"
      ],
      "metadata": {
        "colab": {
          "base_uri": "https://localhost:8080/"
        },
        "id": "YEKsWIxl_752",
        "outputId": "1eed4308-3fe5-4327-b9fc-045bb2ee044b"
      },
      "execution_count": null,
      "outputs": [
        {
          "output_type": "stream",
          "name": "stdout",
          "text": [
            "숫자 입력 : 1\n",
            "숫자 입력 : 1\n",
            "두 숫자가 같음\n"
          ]
        }
      ]
    },
    {
      "cell_type": "code",
      "source": [
        "a= int(input(\"숫자 입력 : \"))\n",
        "b= int(input(\"숫자 입력 : \"))\n",
        "print(a)\n",
        "print(b,\"\\n뒤집기\")\n",
        "t=a\n",
        "a=b\n",
        "b=t\n",
        "print(a)\n",
        "print(b)"
      ],
      "metadata": {
        "colab": {
          "base_uri": "https://localhost:8080/"
        },
        "id": "SddldBxOEjBC",
        "outputId": "b991e1be-f87f-4f74-fb61-2da5090bbeac"
      },
      "execution_count": null,
      "outputs": [
        {
          "output_type": "stream",
          "name": "stdout",
          "text": [
            "숫자 입력 : 1\n",
            "숫자 입력 : 2\n",
            "1\n",
            "2 \n",
            "뒤집기\n",
            "2\n",
            "1\n"
          ]
        }
      ]
    },
    {
      "cell_type": "code",
      "source": [
        "i=0\n",
        "sum=0\n",
        "arr=[2,4,3,5,6]\n",
        "while i<5:\n",
        "  sum=sum+arr[i]\n",
        "  i+=1\n",
        "print(sum)"
      ],
      "metadata": {
        "colab": {
          "base_uri": "https://localhost:8080/"
        },
        "id": "T9MqDUcVdDLo",
        "outputId": "5d650b89-b5dd-4be1-aebb-9941dc1625fb"
      },
      "execution_count": null,
      "outputs": [
        {
          "output_type": "stream",
          "name": "stdout",
          "text": [
            "20\n"
          ]
        }
      ]
    },
    {
      "cell_type": "code",
      "source": [
        "arr=[2,4,3,5,1]\n",
        "i=0\n",
        "max = arr[0]\n",
        "while i<5:\n",
        "  if arr[i]>max:\n",
        "    max=arr[i]\n",
        "  i+=1\n",
        "print(max)"
      ],
      "metadata": {
        "colab": {
          "base_uri": "https://localhost:8080/"
        },
        "id": "ZGw7AfLklYt8",
        "outputId": "c630d883-8031-4e0e-c299-5074d0ea9b55"
      },
      "execution_count": null,
      "outputs": [
        {
          "output_type": "stream",
          "name": "stdout",
          "text": [
            "5\n"
          ]
        }
      ]
    },
    {
      "cell_type": "code",
      "source": [
        "i=0\n",
        "arr=[4,2,3,5,1]\n",
        "while i<5:\n",
        "  if arr[i]==5:\n",
        "    print(f'{i+1}번째에 있습니다.')\n",
        "    break\n",
        "  else:\n",
        "    i+=1\n",
        "    if i==5:\n",
        "      print(f'찾는 값이 없습니다.')\n"
      ],
      "metadata": {
        "colab": {
          "base_uri": "https://localhost:8080/"
        },
        "id": "M7aRVR9CzeYJ",
        "outputId": "d18e187c-4cfd-43ec-bb7b-f8a80e9772ea"
      },
      "execution_count": null,
      "outputs": [
        {
          "output_type": "stream",
          "name": "stdout",
          "text": [
            "4번째에 있습니다.\n"
          ]
        }
      ]
    },
    {
      "cell_type": "code",
      "source": [
        "i=1\n",
        "arr=[3,2,3,5,1,2,3,10,5,9,8,7,100,99,50]\n",
        "while i<len(arr):\n",
        "  if arr[i]<arr[i-1]:\n",
        "    t=arr[i-1]\n",
        "    arr[i-1]=arr[i]\n",
        "    arr[i]=t\n",
        "    i=1\n",
        "  else:\n",
        "    i+=1\n",
        "print(arr)"
      ],
      "metadata": {
        "colab": {
          "base_uri": "https://localhost:8080/"
        },
        "id": "UjUW3Q0K2VO5",
        "outputId": "122ebb5a-48ef-4664-c11e-30ada5ad1971"
      },
      "execution_count": 55,
      "outputs": [
        {
          "output_type": "stream",
          "name": "stdout",
          "text": [
            "[1, 2, 2, 3, 3, 3, 5, 5, 7, 8, 9, 10, 50, 99, 100]\n"
          ]
        }
      ]
    }
  ]
}