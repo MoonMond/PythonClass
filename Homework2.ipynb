{
  "cells": [
    {
      "cell_type": "markdown",
      "metadata": {
        "id": "view-in-github",
        "colab_type": "text"
      },
      "source": [
        "<a href=\"https://colab.research.google.com/github/MoonMond/PythonClass/blob/main/Homework2.ipynb\" target=\"_parent\"><img src=\"https://colab.research.google.com/assets/colab-badge.svg\" alt=\"Open In Colab\"/></a>"
      ]
    },
    {
      "cell_type": "code",
      "execution_count": null,
      "metadata": {
        "colab": {
          "background_save": true,
          "base_uri": "https://localhost:8080/"
        },
        "id": "HvCENvo0Xn0P",
        "outputId": "71bc6038-2c70-4ba5-f08e-6d3513049003"
      },
      "outputs": [
        {
          "name": "stdout",
          "output_type": "stream",
          "text": [
            "p t\n"
          ]
        }
      ],
      "source": [
        "# 021\n",
        "letters = 'python'\n",
        "print(letters[0],letters[2]) # letters[n] : n에 해당부분 출력"
      ]
    },
    {
      "cell_type": "code",
      "execution_count": null,
      "metadata": {
        "colab": {
          "base_uri": "https://localhost:8080/"
        },
        "id": "C_jwASAUYxPh",
        "outputId": "a537d408-09bc-4045-e08b-4c38c2c030ad"
      },
      "outputs": [
        {
          "output_type": "stream",
          "name": "stdout",
          "text": [
            "2210\n"
          ]
        }
      ],
      "source": [
        "# 022\n",
        "license_plate = \"24가 2210\"\n",
        "print(license_plate[4:])"
      ]
    },
    {
      "cell_type": "code",
      "execution_count": null,
      "metadata": {
        "colab": {
          "base_uri": "https://localhost:8080/"
        },
        "id": "QTmEFzREZD3l",
        "outputId": "a9b8e656-275f-4a6e-bdfb-28ae44a81304"
      },
      "outputs": [
        {
          "name": "stdout",
          "output_type": "stream",
          "text": [
            "홀 홀 홀\n"
          ]
        }
      ],
      "source": [
        "# 023\n",
        "string = \"홀짝홀짝홀짝\"\n",
        "print(string[0],string[2],string[4])"
      ]
    },
    {
      "cell_type": "code",
      "execution_count": null,
      "metadata": {
        "colab": {
          "base_uri": "https://localhost:8080/"
        },
        "id": "4R_I4DfnZLb5",
        "outputId": "7bf9c5ed-f811-4dd7-cb4f-b7da864d3337"
      },
      "outputs": [
        {
          "name": "stdout",
          "output_type": "stream",
          "text": [
            "NOHTYP\n"
          ]
        }
      ],
      "source": [
        "# 024\n",
        "string = \"PYTHON\"\n",
        "print(string[::-1]) \n",
        "# 문자열[시작:끝:규칙]으로 세 번째 숫자가 들어갈 수 있는데, 이때의 규칙은 슬라이싱을 하는 규칙\n",
        "# 1이 들어가는 것이 디폴트 값이며 1이 들어가게 되면 문자열을 앞에서부터 하나씩 잘라서 새로운 문자열 생성\n",
        "# 2가 들어가게 되면 앞에서부터 한 칸씩 띄워서 2씩 잘라주어 새로운 문자열을 만들어 줍니다. \n",
        "# 인덱스를 기준으로 보면 [0], [2], [4] .. 이런 식으로 문자열을 자르게 됩니다.\n",
        "# 우리는 이 규칙에 -1을 넣어서 뒤에서부터 잘라서 문자열을 뒤집을 수 있습니다.\n"
      ]
    },
    {
      "cell_type": "code",
      "execution_count": null,
      "metadata": {
        "colab": {
          "base_uri": "https://localhost:8080/"
        },
        "id": "WVQ-1_LIav4H",
        "outputId": "7ce232e3-3e35-4fa3-8c32-b07e98bd5bc1"
      },
      "outputs": [
        {
          "name": "stdout",
          "output_type": "stream",
          "text": [
            "010 1111 2222\n"
          ]
        }
      ],
      "source": [
        "# 025\n",
        "phone_number = \"010-1111-2222\"\n",
        "print(phone_number.replace(\"-\",\" \")) # x.replace(\"-\",\" \") : x에서 -를 모두 공백으로 바꿈\n"
      ]
    },
    {
      "cell_type": "code",
      "execution_count": null,
      "metadata": {
        "colab": {
          "base_uri": "https://localhost:8080/"
        },
        "id": "kl_nldwxbOhP",
        "outputId": "f3c9a038-f92c-4905-bd37-c53227c35516"
      },
      "outputs": [
        {
          "name": "stdout",
          "output_type": "stream",
          "text": [
            "01011112222\n"
          ]
        }
      ],
      "source": [
        "# 026\n",
        "phone_number = \"010-1111-2222\"\n",
        "print(phone_number.replace(\"-\",\"\")) # x.replace(\"-\",\"\") : x에서 -를 모두 제거"
      ]
    },
    {
      "cell_type": "code",
      "execution_count": null,
      "metadata": {
        "colab": {
          "base_uri": "https://localhost:8080/"
        },
        "id": "IVDAA6nYbVzy",
        "outputId": "2773f7dc-55a8-4fe8-e866-4f36abd2f014"
      },
      "outputs": [
        {
          "name": "stdout",
          "output_type": "stream",
          "text": [
            "kr\n"
          ]
        }
      ],
      "source": [
        "# 027\n",
        "url = \"http://sharebook.kr\"\n",
        "print(url[-2:])"
      ]
    },
    {
      "cell_type": "code",
      "execution_count": null,
      "metadata": {
        "colab": {
          "base_uri": "https://localhost:8080/",
          "height": 227
        },
        "id": "FW3hH5YQb2W_",
        "outputId": "8c2c08ee-70d3-4f63-d770-26e643f72429"
      },
      "outputs": [
        {
          "ename": "TypeError",
          "evalue": "ignored",
          "output_type": "error",
          "traceback": [
            "\u001b[0;31m---------------------------------------------------------------------------\u001b[0m",
            "\u001b[0;31mTypeError\u001b[0m                                 Traceback (most recent call last)",
            "\u001b[0;32m<ipython-input-21-3b136d259512>\u001b[0m in \u001b[0;36m<module>\u001b[0;34m\u001b[0m\n\u001b[1;32m      1\u001b[0m \u001b[0;31m# 028\u001b[0m\u001b[0;34m\u001b[0m\u001b[0;34m\u001b[0m\u001b[0;34m\u001b[0m\u001b[0m\n\u001b[1;32m      2\u001b[0m \u001b[0mlang\u001b[0m \u001b[0;34m=\u001b[0m \u001b[0;34m\"python\"\u001b[0m\u001b[0;34m\u001b[0m\u001b[0;34m\u001b[0m\u001b[0m\n\u001b[0;32m----> 3\u001b[0;31m \u001b[0mlang\u001b[0m\u001b[0;34m[\u001b[0m\u001b[0;36m0\u001b[0m\u001b[0;34m]\u001b[0m\u001b[0;34m=\u001b[0m\u001b[0;34m\"P\"\u001b[0m \u001b[0;31m# 문자열은 변경불가하여 오류발생\u001b[0m\u001b[0;34m\u001b[0m\u001b[0;34m\u001b[0m\u001b[0m\n\u001b[0m\u001b[1;32m      4\u001b[0m \u001b[0mprint\u001b[0m\u001b[0;34m(\u001b[0m\u001b[0mlang\u001b[0m\u001b[0;34m)\u001b[0m\u001b[0;34m\u001b[0m\u001b[0;34m\u001b[0m\u001b[0m\n",
            "\u001b[0;31mTypeError\u001b[0m: 'str' object does not support item assignment"
          ]
        }
      ],
      "source": [
        "# 028\n",
        "lang = \"python\"\n",
        "lang[0]=\"P\" # 문자열은 변경불가하여 오류발생\n",
        "print(lang)\n"
      ]
    },
    {
      "cell_type": "code",
      "execution_count": null,
      "metadata": {
        "colab": {
          "base_uri": "https://localhost:8080/"
        },
        "id": "g36-esR_eZ08",
        "outputId": "918f0d21-5ad0-410c-8b2d-6d0a3964629a"
      },
      "outputs": [
        {
          "name": "stdout",
          "output_type": "stream",
          "text": [
            "Abcdfe2A354A32A\n"
          ]
        }
      ],
      "source": [
        "# 029\n",
        "string = 'abcdfe2a354a32a'\n",
        "print(string.replace(\"a\",\"A\"))"
      ]
    },
    {
      "cell_type": "code",
      "execution_count": null,
      "metadata": {
        "colab": {
          "base_uri": "https://localhost:8080/"
        },
        "id": "rdyRqn01enRK",
        "outputId": "05d97276-e73d-4bb0-97f9-2cd900857770"
      },
      "outputs": [
        {
          "name": "stdout",
          "output_type": "stream",
          "text": [
            "abcd\n"
          ]
        }
      ],
      "source": [
        "# 030\n",
        "string = 'abcd'\n",
        "string.replace('b', 'B') # 문자열의 b를 모두 B로 바꿈\n",
        "print(string)\n"
      ]
    },
    {
      "cell_type": "code",
      "execution_count": null,
      "metadata": {
        "colab": {
          "base_uri": "https://localhost:8080/"
        },
        "id": "wVpwFyF7fKjn",
        "outputId": "ad696efa-d483-4a52-a67b-02e8dfc49b8d"
      },
      "outputs": [
        {
          "name": "stdout",
          "output_type": "stream",
          "text": [
            "34\n"
          ]
        }
      ],
      "source": [
        "# 031\n",
        "a = \"3\"\n",
        "b = \"4\"\n",
        "print(a + b) # +는 문자열 합치기\n"
      ]
    },
    {
      "cell_type": "code",
      "execution_count": null,
      "metadata": {
        "colab": {
          "base_uri": "https://localhost:8080/"
        },
        "id": "QsHyiyJyfW4k",
        "outputId": "dc53d44a-032b-43a8-ebb4-e03cc2b58e44"
      },
      "outputs": [
        {
          "name": "stdout",
          "output_type": "stream",
          "text": [
            "HiHiHi\n"
          ]
        }
      ],
      "source": [
        "# 032\n",
        "print(\"Hi\" * 3) # Hi를 세번 반복하여 출력\n"
      ]
    },
    {
      "cell_type": "code",
      "execution_count": null,
      "metadata": {
        "colab": {
          "base_uri": "https://localhost:8080/"
        },
        "id": "g0hlO-Cqftmg",
        "outputId": "98803acf-b7a1-4054-979a-1c4befd6d6bb"
      },
      "outputs": [
        {
          "name": "stdout",
          "output_type": "stream",
          "text": [
            "--------------------------------------------------------------------------------\n"
          ]
        }
      ],
      "source": [
        "# 033\n",
        "print(\"-\" * 80)"
      ]
    },
    {
      "cell_type": "code",
      "execution_count": null,
      "metadata": {
        "colab": {
          "base_uri": "https://localhost:8080/"
        },
        "id": "fZV9qZNtfx9G",
        "outputId": "25f8cf90-b68d-40c1-e157-170c0fc48507"
      },
      "outputs": [
        {
          "name": "stdout",
          "output_type": "stream",
          "text": [
            "python java python java python java python java \n"
          ]
        }
      ],
      "source": [
        "# 034\n",
        "t1 = 'python'\n",
        "t2 = 'java'\n",
        "print((t1+\" \"+t2+\" \")*4)\n"
      ]
    },
    {
      "cell_type": "code",
      "execution_count": null,
      "metadata": {
        "colab": {
          "base_uri": "https://localhost:8080/"
        },
        "id": "wOQABusFhQm2",
        "outputId": "d4e54de0-20af-46e2-c78f-8087576224b4"
      },
      "outputs": [
        {
          "name": "stdout",
          "output_type": "stream",
          "text": [
            "이름: 김민수 나이: 10이름: 이철희 나이:13\n"
          ]
        }
      ],
      "source": [
        "# 035\n",
        "name1 = \"김민수\"\n",
        "age1 = 10\n",
        "name2 = \"이철희\"\n",
        "age2 = 13\n",
        "print(\"이름: %s 나이: %d이름: %s 나이:%d\" % (name1,age1,name2,age2))"
      ]
    },
    {
      "cell_type": "code",
      "execution_count": null,
      "metadata": {
        "colab": {
          "base_uri": "https://localhost:8080/"
        },
        "id": "cXBQ3QTSgAjX",
        "outputId": "0318e13a-04ea-4351-8b75-c518a10a92ee"
      },
      "outputs": [
        {
          "name": "stdout",
          "output_type": "stream",
          "text": [
            "이름: 김민수 나이: 10이름: 이철희 나이:13\n"
          ]
        }
      ],
      "source": [
        "# 036\n",
        "name1 = \"김민수\"\n",
        "age1 = 10\n",
        "name2 = \"이철희\"\n",
        "age2 = 13\n",
        "print(\"이름: {0} 나이: {1}이름: {2} 나이:{3}\".format(name1,age1,name2,age2))"
      ]
    },
    {
      "cell_type": "code",
      "execution_count": null,
      "metadata": {
        "colab": {
          "base_uri": "https://localhost:8080/"
        },
        "id": "GnAyI5i8h_mh",
        "outputId": "1712ea74-e405-479a-845b-d2c2d7c56a7e"
      },
      "outputs": [
        {
          "name": "stdout",
          "output_type": "stream",
          "text": [
            "이름: 김민수 나이: 10이름: 이철희 나이:13\n"
          ]
        }
      ],
      "source": [
        "#037\n",
        "name1 = \"김민수\"\n",
        "age1 = 10\n",
        "name2 = \"이철희\"\n",
        "age2 = 13\n",
        "print(f\"이름: {name1} 나이: {age1}이름: {name2} 나이:{age2}\")"
      ]
    },
    {
      "cell_type": "code",
      "execution_count": null,
      "metadata": {
        "colab": {
          "base_uri": "https://localhost:8080/"
        },
        "id": "-NsOi_1jidct",
        "outputId": "d64bd4fc-1d5a-486b-aab6-05bf06252ae3"
      },
      "outputs": [
        {
          "name": "stdout",
          "output_type": "stream",
          "text": [
            "5969782550\n",
            "<class 'int'>\n"
          ]
        }
      ],
      "source": [
        "# 038\n",
        "상장주식수 = \"5,969,782,550\"\n",
        "print(int(상장주식수.replace(\",\",\"\")))\n",
        "print(type(int(상장주식수.replace(\",\",\"\"))))"
      ]
    },
    {
      "cell_type": "code",
      "execution_count": null,
      "metadata": {
        "colab": {
          "base_uri": "https://localhost:8080/"
        },
        "id": "6ICpKHPNi2bL",
        "outputId": "33d616c3-5f62-4f61-c320-897e8b90aaa8"
      },
      "outputs": [
        {
          "name": "stdout",
          "output_type": "stream",
          "text": [
            "2020/03\n"
          ]
        }
      ],
      "source": [
        "# 039\n",
        "분기 = \"2020/03(E) (IFRS연결)\"\n",
        "print(분기[:7])"
      ]
    },
    {
      "cell_type": "code",
      "execution_count": null,
      "metadata": {
        "colab": {
          "base_uri": "https://localhost:8080/"
        },
        "id": "OwSk_AFGjAzR",
        "outputId": "944f7596-f352-4e8b-9cf7-1c8b07808191"
      },
      "outputs": [
        {
          "name": "stdout",
          "output_type": "stream",
          "text": [
            "삼성전자\n"
          ]
        }
      ],
      "source": [
        "# 040\n",
        "data = \"   삼성전자    \"\n",
        "print(data.strip())"
      ]
    }
  ],
  "metadata": {
    "colab": {
      "provenance": [],
      "authorship_tag": "ABX9TyPS0TWyXYcTSz/BtyTq4Nci",
      "include_colab_link": true
    },
    "kernelspec": {
      "display_name": "Python 3",
      "name": "python3"
    },
    "language_info": {
      "name": "python"
    }
  },
  "nbformat": 4,
  "nbformat_minor": 0
}