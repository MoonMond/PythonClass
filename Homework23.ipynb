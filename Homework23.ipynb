{
  "nbformat": 4,
  "nbformat_minor": 0,
  "metadata": {
    "colab": {
      "provenance": [],
      "authorship_tag": "ABX9TyOKQQLkt7lguVRKyzz1yS+/",
      "include_colab_link": true
    },
    "kernelspec": {
      "name": "python3",
      "display_name": "Python 3"
    },
    "language_info": {
      "name": "python"
    }
  },
  "cells": [
    {
      "cell_type": "markdown",
      "metadata": {
        "id": "view-in-github",
        "colab_type": "text"
      },
      "source": [
        "<a href=\"https://colab.research.google.com/github/MoonMond/PythonClass/blob/main/Homework23.ipynb\" target=\"_parent\"><img src=\"https://colab.research.google.com/assets/colab-badge.svg\" alt=\"Open In Colab\"/></a>"
      ]
    },
    {
      "cell_type": "code",
      "execution_count": 7,
      "metadata": {
        "colab": {
          "base_uri": "https://localhost:8080/"
        },
        "id": "sAFo84LALexU",
        "outputId": "6a52d146-b2e6-4c62-f666-4037e51349a8"
      },
      "outputs": [
        {
          "output_type": "stream",
          "name": "stdout",
          "text": [
            "What is your first name? 경록\n",
            "길이는 2\n",
            "What is your surname? 문\n",
            "길이는 1\n",
            "경록 문 4\n"
          ]
        }
      ],
      "source": [
        "# 080\n",
        "a=input(\"What is your first name? \")\n",
        "print(f'길이는 {len(a)}')\n",
        "b=input(\"What is your surname? \")\n",
        "print(f'길이는 {len(b)}')\n",
        "c=a+\" \"+b\n",
        "print(a,b,end=\" \")\n",
        "print(len(c))"
      ]
    },
    {
      "cell_type": "code",
      "source": [
        "# 081\n",
        "a=input(\"가장 좋아하는 과목은? \")\n",
        "for i in a:\n",
        "  print(i,end=\"-\")"
      ],
      "metadata": {
        "colab": {
          "base_uri": "https://localhost:8080/"
        },
        "id": "ofgtqJoQNYJq",
        "outputId": "92c28988-7590-4e56-d83f-0b7bac2cb149"
      },
      "execution_count": 8,
      "outputs": [
        {
          "output_type": "stream",
          "name": "stdout",
          "text": [
            "가장 좋아하는 과목은? math\n",
            "m-a-t-h-"
          ]
        }
      ]
    },
    {
      "cell_type": "code",
      "source": [
        "# 082\n",
        "a=\"밤하늘의 별을\"\n",
        "print(a)\n",
        "a1=input(\"start : \")\n",
        "a2=input(\"end : \")\n",
        "print(a[a.index(a1):a.index(a2)+1])"
      ],
      "metadata": {
        "colab": {
          "base_uri": "https://localhost:8080/"
        },
        "id": "EKe6OYx6N7hR",
        "outputId": "d1b4bb25-392a-490e-8b87-f05614f996a6"
      },
      "execution_count": 10,
      "outputs": [
        {
          "output_type": "stream",
          "name": "stdout",
          "text": [
            "밤하늘의 별을\n",
            "start : 하\n",
            "end : 별\n",
            "하늘의 별\n"
          ]
        }
      ]
    },
    {
      "cell_type": "code",
      "source": [
        "# 083\n",
        "w=input(\"대문자로 단어 입력 : \")\n",
        "while w.islower():\n",
        "  print(\"대문자로 다시 입력하세요\")\n",
        "  w=input(\"대문자로 단어 입력 : \")\n",
        "print(w)"
      ],
      "metadata": {
        "colab": {
          "base_uri": "https://localhost:8080/"
        },
        "id": "KTamVbVCPJ-Z",
        "outputId": "8589a890-2a15-4044-9df0-7488bf073467"
      },
      "execution_count": 13,
      "outputs": [
        {
          "output_type": "stream",
          "name": "stdout",
          "text": [
            "대문자로 단어 입력 : ww\n",
            "대문자로 다시 입력하세요\n",
            "대문자로 단어 입력 : bb\n",
            "대문자로 다시 입력하세요\n",
            "대문자로 단어 입력 : BA\n",
            "BA\n"
          ]
        }
      ]
    },
    {
      "cell_type": "code",
      "source": [
        "# 084\n",
        "p=input(\"type in your postcode: \")\n",
        "print(p[0:2].upper())"
      ],
      "metadata": {
        "colab": {
          "base_uri": "https://localhost:8080/"
        },
        "id": "eugnjCzmP_a_",
        "outputId": "db09a4a3-de36-458d-e8e4-5ebdbf832b65"
      },
      "execution_count": 14,
      "outputs": [
        {
          "output_type": "stream",
          "name": "stdout",
          "text": [
            "type in your postcode: abcd\n",
            "AB\n"
          ]
        }
      ]
    },
    {
      "cell_type": "code",
      "source": [
        "# 085\n",
        "vowel=[\"a\",\"e\",\"i\",\"o\",\"u\"]\n",
        "a=input(\"이름 : \")\n",
        "n=0\n",
        "for i in a:\n",
        "  if i in vowel:\n",
        "    n+=1\n",
        "print(f'이름에 모음은 {n}개 있습니다')"
      ],
      "metadata": {
        "colab": {
          "base_uri": "https://localhost:8080/"
        },
        "id": "thTOmyFqQb8f",
        "outputId": "815d66b6-4f46-4658-d927-a0ba426ea809"
      },
      "execution_count": 15,
      "outputs": [
        {
          "output_type": "stream",
          "name": "stdout",
          "text": [
            "이름 : melon\n",
            "이름에 모음은 2개 있습니다\n"
          ]
        }
      ]
    },
    {
      "cell_type": "code",
      "source": [
        "# 086\n",
        "p=input(\"비밀번호 : \")\n",
        "a=input(\"비밀번호 확인 : \")\n",
        "if a==p:\n",
        "  print(\"Thank you\")\n",
        "elif a.upper()==p.upper():\n",
        "  print(\"They must be in the same case\")\n",
        "else:\n",
        "  print(\"Incorrect\")"
      ],
      "metadata": {
        "colab": {
          "base_uri": "https://localhost:8080/"
        },
        "id": "togVGmrDRdj4",
        "outputId": "e4d93568-84d7-42b8-b528-32a4291ce445"
      },
      "execution_count": 18,
      "outputs": [
        {
          "output_type": "stream",
          "name": "stdout",
          "text": [
            "비밀번호 : ag\n",
            "비밀번호 확인 : ga\n",
            "Incorrect\n"
          ]
        }
      ]
    },
    {
      "cell_type": "code",
      "source": [
        "# 087\n",
        "a=input(\"글자 입력 : \")\n",
        "b=len(a)\n",
        "for i in range(b):\n",
        "  print(a[-(i+1)])"
      ],
      "metadata": {
        "colab": {
          "base_uri": "https://localhost:8080/"
        },
        "id": "uWdtk-_3S0Pv",
        "outputId": "7062f39d-888b-4b9f-e826-d55b2cb1faf5"
      },
      "execution_count": 21,
      "outputs": [
        {
          "output_type": "stream",
          "name": "stdout",
          "text": [
            "글자 입력 : abcd\n",
            "d\n",
            "c\n",
            "b\n",
            "a\n"
          ]
        }
      ]
    }
  ]
}